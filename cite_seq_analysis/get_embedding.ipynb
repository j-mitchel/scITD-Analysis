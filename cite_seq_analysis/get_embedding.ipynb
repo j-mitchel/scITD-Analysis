{
 "cells": [
  {
   "cell_type": "code",
   "execution_count": 10,
   "id": "70f9c477-33ce-4dac-9b50-24713d1ac0bf",
   "metadata": {},
   "outputs": [
    {
     "name": "stderr",
     "output_type": "stream",
     "text": [
      "\n",
      "Attaching package: ‘pagoda2’\n",
      "\n",
      "\n",
      "The following objects are masked from ‘package:conos’:\n",
      "\n",
      "    buildWijMatrix, projectKNNs, sgdBatches\n",
      "\n",
      "\n"
     ]
    }
   ],
   "source": [
    "library(conos)\n",
    "library(Seurat)\n",
    "library(SeuratDisk)\n",
    "library(sccore)\n",
    "library(pagoda2)"
   ]
  },
  {
   "cell_type": "code",
   "execution_count": 3,
   "id": "ea12d15c-42f2-4b5c-811c-2e4a32e2ac30",
   "metadata": {},
   "outputs": [
    {
     "name": "stderr",
     "output_type": "stream",
     "text": [
      "Validating h5Seurat file\n",
      "\n",
      "Initializing ADT with data\n",
      "\n",
      "Adding counts for ADT\n",
      "\n",
      "Adding variable feature information for ADT\n",
      "\n",
      "Adding miscellaneous information for ADT\n",
      "\n",
      "Initializing SCT with data\n",
      "\n",
      "Adding counts for SCT\n",
      "\n",
      "Adding variable feature information for SCT\n",
      "\n",
      "Adding miscellaneous information for SCT\n",
      "\n",
      "Adding reduction apca\n",
      "\n",
      "Adding cell embeddings for apca\n",
      "\n",
      "Adding feature loadings for apca\n",
      "\n",
      "Adding miscellaneous information for apca\n",
      "\n",
      "Adding reduction aumap\n",
      "\n",
      "Adding cell embeddings for aumap\n",
      "\n",
      "Adding miscellaneous information for aumap\n",
      "\n",
      "Adding reduction pca\n",
      "\n",
      "Adding cell embeddings for pca\n",
      "\n",
      "Adding feature loadings for pca\n",
      "\n",
      "Adding miscellaneous information for pca\n",
      "\n",
      "Adding reduction spca\n",
      "\n",
      "Adding cell embeddings for spca\n",
      "\n",
      "Adding feature loadings for spca\n",
      "\n",
      "Adding miscellaneous information for spca\n",
      "\n",
      "Adding reduction umap\n",
      "\n",
      "Adding cell embeddings for umap\n",
      "\n",
      "Adding miscellaneous information for umap\n",
      "\n",
      "Adding reduction wnn.umap\n",
      "\n",
      "Adding cell embeddings for wnn.umap\n",
      "\n",
      "Adding miscellaneous information for wnn.umap\n",
      "\n",
      "Adding graph wknn\n",
      "\n",
      "Adding graph wsnn\n",
      "\n",
      "Adding command information\n",
      "\n",
      "Adding cell-level metadata\n",
      "\n",
      "Adding miscellaneous information\n",
      "\n",
      "Adding tool-specific results\n",
      "\n"
     ]
    }
   ],
   "source": [
    "pbmc <- LoadH5Seurat(\"/home/jmitchel/data/cite_seq_data/pbmc_multimodal.h5seurat\")"
   ]
  },
  {
   "cell_type": "code",
   "execution_count": 11,
   "id": "503d5744-7072-49d5-ab58-9db65f7a30ae",
   "metadata": {},
   "outputs": [],
   "source": [
    "all_donors <- unique(pbmc@meta.data$donor)"
   ]
  },
  {
   "cell_type": "code",
   "execution_count": 12,
   "id": "508253c6-4c90-4420-9ff2-e20bb7ad8fac",
   "metadata": {},
   "outputs": [
    {
     "name": "stderr",
     "output_type": "stream",
     "text": [
      "17205 cells, 20729 genes; normalizing ... \n",
      "\n",
      "Using plain model \n",
      "\n",
      "Winsorizing ... \n",
      "\n",
      "log scale ... \n",
      "\n",
      "done.\n",
      "\n",
      "\n",
      "calculating variance fit ...\n",
      "\n",
      " using gam \n",
      "\n",
      "928 overdispersed genes ... 928\n",
      "\n",
      "persisting ... \n",
      "\n",
      "done.\n",
      "\n",
      "running PCA using 2000 OD genes .\n",
      "\n",
      ".\n",
      "\n",
      ".\n",
      "\n",
      ".\n",
      "\n",
      " done\n",
      "\n",
      "\n"
     ]
    },
    {
     "name": "stdout",
     "output_type": "stream",
     "text": [
      "creating space of type angular done\n",
      "adding data ... done\n",
      "building index ... done\n",
      "querying ... done\n"
     ]
    },
    {
     "name": "stderr",
     "output_type": "stream",
     "text": [
      "running tSNE using 5 cores:\n",
      "\n",
      "\n",
      "18135 cells, 20729 genes; normalizing ... \n",
      "\n",
      "Using plain model \n",
      "\n",
      "Winsorizing ... \n",
      "\n",
      "log scale ... \n",
      "\n",
      "done.\n",
      "\n",
      "\n",
      "calculating variance fit ...\n",
      "\n",
      " using gam \n",
      "\n",
      "1086 overdispersed genes ... 1086\n",
      "\n",
      "persisting ... \n",
      "\n",
      "done.\n",
      "\n",
      "running PCA using 2000 OD genes .\n",
      "\n",
      ".\n",
      "\n",
      ".\n",
      "\n",
      ".\n",
      "\n",
      " done\n",
      "\n",
      "\n"
     ]
    },
    {
     "name": "stdout",
     "output_type": "stream",
     "text": [
      "creating space of type angular done\n",
      "adding data ... done\n",
      "building index ... done\n",
      "querying ... done\n"
     ]
    },
    {
     "name": "stderr",
     "output_type": "stream",
     "text": [
      "running tSNE using 5 cores:\n",
      "\n",
      "\n",
      "17090 cells, 20729 genes; normalizing ... \n",
      "\n",
      "Using plain model \n",
      "\n",
      "Winsorizing ... \n",
      "\n",
      "log scale ... \n",
      "\n",
      "done.\n",
      "\n",
      "\n",
      "calculating variance fit ...\n",
      "\n",
      " using gam \n",
      "\n",
      "939 overdispersed genes ... 939\n",
      "\n",
      "persisting ... \n",
      "\n",
      "done.\n",
      "\n",
      "running PCA using 2000 OD genes .\n",
      "\n",
      ".\n",
      "\n",
      ".\n",
      "\n",
      ".\n",
      "\n",
      " done\n",
      "\n",
      "\n"
     ]
    },
    {
     "name": "stdout",
     "output_type": "stream",
     "text": [
      "creating space of type angular done\n",
      "adding data ... done\n",
      "building index ... done\n",
      "querying ... done\n"
     ]
    },
    {
     "name": "stderr",
     "output_type": "stream",
     "text": [
      "running tSNE using 5 cores:\n",
      "\n",
      "\n",
      "14660 cells, 20729 genes; normalizing ... \n",
      "\n",
      "Using plain model \n",
      "\n",
      "Winsorizing ... \n",
      "\n",
      "log scale ... \n",
      "\n",
      "done.\n",
      "\n",
      "\n",
      "calculating variance fit ...\n",
      "\n",
      " using gam \n",
      "\n",
      "980 overdispersed genes ... 980\n",
      "\n",
      "persisting ... \n",
      "\n",
      "done.\n",
      "\n",
      "running PCA using 2000 OD genes .\n",
      "\n",
      ".\n",
      "\n",
      ".\n",
      "\n",
      ".\n",
      "\n",
      " done\n",
      "\n",
      "\n"
     ]
    },
    {
     "name": "stdout",
     "output_type": "stream",
     "text": [
      "creating space of type angular done\n",
      "adding data ... done\n",
      "building index ... done\n",
      "querying ... done\n"
     ]
    },
    {
     "name": "stderr",
     "output_type": "stream",
     "text": [
      "running tSNE using 5 cores:\n",
      "\n",
      "\n",
      "21811 cells, 20729 genes; normalizing ... \n",
      "\n",
      "Using plain model \n",
      "\n",
      "Winsorizing ... \n",
      "\n",
      "log scale ... \n",
      "\n",
      "done.\n",
      "\n",
      "\n",
      "calculating variance fit ...\n",
      "\n",
      " using gam \n",
      "\n",
      "1801 overdispersed genes ... 1801\n",
      "\n",
      "persisting ... \n",
      "\n",
      "done.\n",
      "\n",
      "running PCA using 2000 OD genes .\n",
      "\n",
      ".\n",
      "\n",
      ".\n",
      "\n",
      ".\n",
      "\n",
      " done\n",
      "\n",
      "\n"
     ]
    },
    {
     "name": "stdout",
     "output_type": "stream",
     "text": [
      "creating space of type angular done\n",
      "adding data ... done\n",
      "building index ... done\n",
      "querying ... done\n"
     ]
    },
    {
     "name": "stderr",
     "output_type": "stream",
     "text": [
      "running tSNE using 5 cores:\n",
      "\n",
      "\n",
      "25871 cells, 20729 genes; normalizing ... \n",
      "\n",
      "Using plain model \n",
      "\n",
      "Winsorizing ... \n",
      "\n",
      "log scale ... \n",
      "\n",
      "done.\n",
      "\n",
      "\n",
      "calculating variance fit ...\n",
      "\n",
      " using gam \n",
      "\n",
      "1874 overdispersed genes ... 1874\n",
      "\n",
      "persisting ... \n",
      "\n",
      "done.\n",
      "\n",
      "running PCA using 2000 OD genes .\n",
      "\n",
      ".\n",
      "\n",
      ".\n",
      "\n",
      ".\n",
      "\n",
      " done\n",
      "\n",
      "\n"
     ]
    },
    {
     "name": "stdout",
     "output_type": "stream",
     "text": [
      "creating space of type angular done\n",
      "adding data ... done\n",
      "building index ... done\n",
      "querying ... done\n"
     ]
    },
    {
     "name": "stderr",
     "output_type": "stream",
     "text": [
      "running tSNE using 5 cores:\n",
      "\n",
      "\n",
      "20742 cells, 20729 genes; normalizing ... \n",
      "\n",
      "Using plain model \n",
      "\n",
      "Winsorizing ... \n",
      "\n",
      "log scale ... \n",
      "\n",
      "done.\n",
      "\n",
      "\n",
      "calculating variance fit ...\n",
      "\n",
      " using gam \n",
      "\n",
      "1672 overdispersed genes ... 1672\n",
      "\n",
      "persisting ... \n",
      "\n",
      "done.\n",
      "\n",
      "running PCA using 2000 OD genes .\n",
      "\n",
      ".\n",
      "\n",
      ".\n",
      "\n",
      ".\n",
      "\n",
      " done\n",
      "\n",
      "\n"
     ]
    },
    {
     "name": "stdout",
     "output_type": "stream",
     "text": [
      "creating space of type angular done\n",
      "adding data ... done\n",
      "building index ... done\n",
      "querying ... done\n"
     ]
    },
    {
     "name": "stderr",
     "output_type": "stream",
     "text": [
      "running tSNE using 5 cores:\n",
      "\n",
      "\n",
      "26250 cells, 20729 genes; normalizing ... \n",
      "\n",
      "Using plain model \n",
      "\n",
      "Winsorizing ... \n",
      "\n",
      "log scale ... \n",
      "\n",
      "done.\n",
      "\n",
      "\n",
      "calculating variance fit ...\n",
      "\n",
      " using gam \n",
      "\n",
      "1681 overdispersed genes ... 1681\n",
      "\n",
      "persisting ... \n",
      "\n",
      "done.\n",
      "\n",
      "running PCA using 2000 OD genes .\n",
      "\n",
      ".\n",
      "\n",
      ".\n",
      "\n",
      ".\n",
      "\n",
      " done\n",
      "\n",
      "\n"
     ]
    },
    {
     "name": "stdout",
     "output_type": "stream",
     "text": [
      "creating space of type angular done\n",
      "adding data ... done\n",
      "building index ... done\n",
      "querying ... done\n"
     ]
    },
    {
     "name": "stderr",
     "output_type": "stream",
     "text": [
      "running tSNE using 5 cores:\n",
      "\n",
      "\n"
     ]
    }
   ],
   "source": [
    "# make the conos object\n",
    "all_d_data <- list()\n",
    "for (d in all_donors) {\n",
    "    cells_keep <- rownames(pbmc@meta.data)[pbmc@meta.data$donor==d]\n",
    "    pbmc_sub <- subset(pbmc,cells=cells_keep)\n",
    "    all_d_data[[d]] <- pbmc_sub@assays$SCT@counts\n",
    "}\n",
    "\n",
    "# turn the list of matrices to list of pagoda2 objects\n",
    "panel.preprocessed <- lapply(all_d_data, pagoda2::basicP2proc, n.cores=5,\n",
    "                             min.cells.per.gene=0, n.odgenes=2e3,\n",
    "                             get.largevis=FALSE, make.geneknn=FALSE)"
   ]
  },
  {
   "cell_type": "code",
   "execution_count": 14,
   "id": "70c58d48-3a28-4908-9968-11107f3bd59a",
   "metadata": {},
   "outputs": [
    {
     "name": "stderr",
     "output_type": "stream",
     "text": [
      "found 0 out of 28 cached PCA space pairs ... \n",
      "\n",
      "running 28 additional PCA space pairs \n",
      "\n",
      " done\n",
      "\n",
      "inter-sample links using mNN \n",
      "\n",
      " done\n",
      "\n",
      "local pairs \n",
      "\n",
      " done\n",
      "\n",
      "\n",
      "building graph .\n",
      "\n"
     ]
    },
    {
     "name": "stdout",
     "output_type": "stream",
     "text": [
      "."
     ]
    },
    {
     "name": "stderr",
     "output_type": "stream",
     "text": [
      "done\n",
      "\n",
      "Convert graph to adjacency list...\n",
      "\n",
      "\n",
      "Done\n",
      "\n",
      "\n",
      "Estimate nearest neighbors and commute times...\n",
      "\n",
      "\n"
     ]
    },
    {
     "name": "stdout",
     "output_type": "stream",
     "text": [
      "Estimating hitting distances: 15:30:25.\n",
      "Done.\n",
      "Estimating commute distances: 15:31:16.\n",
      "Hashing adjacency list: 15:31:16.\n",
      "Done.\n",
      "Estimating distances: 15:31:28.\n",
      "Done\n",
      "Done.\n",
      "All done!: 15:32:39.\n"
     ]
    },
    {
     "name": "stderr",
     "output_type": "stream",
     "text": [
      "Done\n",
      "\n",
      "\n",
      "Estimate UMAP embedding...\n",
      "\n",
      "\n",
      "15:32:40 UMAP embedding parameters a = 0.02659 b = 0.7912\n",
      "\n",
      "15:32:40 Read 161764 rows and found 1 numeric columns\n",
      "\n",
      "15:32:41 Commencing smooth kNN distance calibration using 5 threads\n",
      "\n",
      "15:32:48 Initializing from normalized Laplacian + noise\n",
      "\n",
      "15:33:13 Commencing optimization for 1000 epochs, with 4583178 positive edges using 5 threads\n",
      "\n",
      "15:35:46 Optimization finished\n",
      "\n",
      "Done\n",
      "\n",
      "\n"
     ]
    }
   ],
   "source": [
    "con <- conos::Conos$new(panel.preprocessed, n.cores=5)\n",
    "\n",
    "# build graph\n",
    "con$buildGraph()\n",
    "\n",
    "# make umap embedding\n",
    "con$embedGraph(method=\"UMAP\", min.dist=0.01, spread=15, min.prob.lower=1e-3)\n",
    "\n"
   ]
  },
  {
   "cell_type": "code",
   "execution_count": 21,
   "id": "815d96d6-0756-4f6a-b319-fe1d3a1f99ce",
   "metadata": {},
   "outputs": [],
   "source": [
    "## label the cell type annotations\n",
    "con$findCommunities(method=conos::leiden.community, resolution=1)\n",
    "cell_assigns <- pbmc@meta.data$celltype.l3\n",
    "names(cell_assigns) <- rownames(pbmc@meta.data)\n",
    "con$clusters$leiden$groups <- cell_assigns[names(con$clusters$leiden$groups)]"
   ]
  },
  {
   "cell_type": "code",
   "execution_count": 25,
   "id": "40c1098b-5f17-474e-99e2-0ae9249fa514",
   "metadata": {},
   "outputs": [
    {
     "data": {
      "text/html": [
       "<strong>png:</strong> 2"
      ],
      "text/latex": [
       "\\textbf{png:} 2"
      ],
      "text/markdown": [
       "**png:** 2"
      ],
      "text/plain": [
       "png \n",
       "  2 "
      ]
     },
     "metadata": {},
     "output_type": "display_data"
    }
   ],
   "source": [
    "# plot graph\n",
    "pdf(file = \"/home/jmitchel/figures/for_paper_v2/cite_seq_umap_conos.pdf\", useDingbats = FALSE,\n",
    "    width = 7.5, height = 6.5)\n",
    "con$plotGraph(alpha=0.1)\n",
    "dev.off()"
   ]
  },
  {
   "cell_type": "code",
   "execution_count": 32,
   "id": "03c6dcec-1cbc-4c43-b48b-c26346ef4fe3",
   "metadata": {},
   "outputs": [
    {
     "data": {
      "text/html": [
       "<strong>png:</strong> 2"
      ],
      "text/latex": [
       "\\textbf{png:} 2"
      ],
      "text/markdown": [
       "**png:** 2"
      ],
      "text/plain": [
       "png \n",
       "  2 "
      ]
     },
     "metadata": {},
     "output_type": "display_data"
    }
   ],
   "source": [
    "# plot graph\n",
    "png(file = \"/home/jmitchel/figures/for_paper_v2/cite_seq_umap_conos.png\",\n",
    "    width = 550, height = 475)\n",
    "con$plotGraph(alpha=0.1)\n",
    "dev.off()"
   ]
  },
  {
   "cell_type": "code",
   "execution_count": 33,
   "id": "150cca7a-68a9-4822-9105-df250a8d6f79",
   "metadata": {},
   "outputs": [],
   "source": [
    "saveRDS(con,file='/home/jmitchel/data/cite_seq_data/cite_seq_conos.rds')"
   ]
  },
  {
   "cell_type": "code",
   "execution_count": null,
   "id": "adc4c186-d983-48e0-a5f5-89af46954d79",
   "metadata": {},
   "outputs": [],
   "source": []
  },
  {
   "cell_type": "code",
   "execution_count": null,
   "id": "9fa9f413-77ef-41e2-8a47-e1597fcf0158",
   "metadata": {},
   "outputs": [],
   "source": []
  }
 ],
 "metadata": {
  "kernelspec": {
   "display_name": "R",
   "language": "R",
   "name": "ir"
  },
  "language_info": {
   "codemirror_mode": "r",
   "file_extension": ".r",
   "mimetype": "text/x-r-source",
   "name": "R",
   "pygments_lexer": "r",
   "version": "4.1.1"
  }
 },
 "nbformat": 4,
 "nbformat_minor": 5
}
