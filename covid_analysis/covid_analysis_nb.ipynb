{
 "cells": [
  {
   "cell_type": "code",
   "execution_count": 2,
   "id": "52963e26-097a-454c-93cc-a450b47930ed",
   "metadata": {},
   "outputs": [
    {
     "name": "stderr",
     "output_type": "stream",
     "text": [
      "Loading required package: usethis\n",
      "\n",
      "\u001b[36mℹ\u001b[39m Loading \u001b[34m\u001b[34mscITD\u001b[34m\u001b[39m\n",
      "\n",
      "Loading required package: Matrix\n",
      "\n"
     ]
    }
   ],
   "source": [
    "setwd('/home/jmitchel/scITD/')\n",
    "library(devtools)\n",
    "load_all()"
   ]
  },
  {
   "cell_type": "code",
   "execution_count": 3,
   "id": "37ae5e2f-15d3-4324-b06b-7b34244564f5",
   "metadata": {},
   "outputs": [],
   "source": [
    "pbmc <- readRDS(file=\"/home/jmitchel/data/covid_data/COVID19_subsetted_seurat.rds\")\n"
   ]
  },
  {
   "cell_type": "code",
   "execution_count": 5,
   "id": "a7d8d13c-1290-4e37-a9bf-2dc698926ccb",
   "metadata": {},
   "outputs": [
    {
     "data": {
      "text/plain": [
       "\n",
       "     B    CD4    CD8     DC  Macro   Mega   Mono    Neu     NK Plasma \n",
       " 95566 202502 302683  11771    588  12137 257722    566  54678   7604 "
      ]
     },
     "metadata": {},
     "output_type": "display_data"
    },
    {
     "data": {
      "text/html": [
       "4.35384615384615"
      ],
      "text/latex": [
       "4.35384615384615"
      ],
      "text/markdown": [
       "4.35384615384615"
      ],
      "text/plain": [
       "[1] 4.353846"
      ]
     },
     "metadata": {},
     "output_type": "display_data"
    }
   ],
   "source": [
    "table(pbmc@meta.data$majorType)\n"
   ]
  },
  {
   "cell_type": "code",
   "execution_count": 6,
   "id": "cc6abe87-04ab-4bc2-964d-0ab832b507a4",
   "metadata": {},
   "outputs": [
    {
     "data": {
      "text/html": [
       "<style>\n",
       ".list-inline {list-style: none; margin:0; padding: 0}\n",
       ".list-inline>li {display: inline-block}\n",
       ".list-inline>li:not(:last-child)::after {content: \"\\00b7\"; padding: 0 .5ex}\n",
       "</style>\n",
       "<ol class=list-inline><li>'orig.ident'</li><li>'nCount_RNA'</li><li>'nFeature_RNA'</li><li>'celltype'</li><li>'majorType'</li><li>'sampleID'</li><li>'PatientID'</li><li>'datasets'</li><li>'City'</li><li>'Age'</li><li>'Sex'</li><li>'Sample.type'</li><li>'CoVID.19.severity'</li><li>'Sample.time'</li><li>'Sampling.day..Days.after.symptom.onset.'</li><li>'SARS.CoV.2'</li><li>'Single.cell.sequencing.platform'</li><li>'BCR.single.cell.sequencing'</li><li>'TCR.single.cell.sequencing'</li><li>'Outcome'</li><li>'Comorbidities'</li><li>'COVID.19.related.medication.and.anti.microbials'</li><li>'Leukocytes..G.L.'</li><li>'Neutrophils..G.L.'</li><li>'Lymphocytes..G.L.'</li><li>'Unpublished'</li><li>'n_genes_by_counts'</li><li>'total_counts'</li><li>'total_counts_mt'</li><li>'pct_counts_mt'</li></ol>\n"
      ],
      "text/latex": [
       "\\begin{enumerate*}\n",
       "\\item 'orig.ident'\n",
       "\\item 'nCount\\_RNA'\n",
       "\\item 'nFeature\\_RNA'\n",
       "\\item 'celltype'\n",
       "\\item 'majorType'\n",
       "\\item 'sampleID'\n",
       "\\item 'PatientID'\n",
       "\\item 'datasets'\n",
       "\\item 'City'\n",
       "\\item 'Age'\n",
       "\\item 'Sex'\n",
       "\\item 'Sample.type'\n",
       "\\item 'CoVID.19.severity'\n",
       "\\item 'Sample.time'\n",
       "\\item 'Sampling.day..Days.after.symptom.onset.'\n",
       "\\item 'SARS.CoV.2'\n",
       "\\item 'Single.cell.sequencing.platform'\n",
       "\\item 'BCR.single.cell.sequencing'\n",
       "\\item 'TCR.single.cell.sequencing'\n",
       "\\item 'Outcome'\n",
       "\\item 'Comorbidities'\n",
       "\\item 'COVID.19.related.medication.and.anti.microbials'\n",
       "\\item 'Leukocytes..G.L.'\n",
       "\\item 'Neutrophils..G.L.'\n",
       "\\item 'Lymphocytes..G.L.'\n",
       "\\item 'Unpublished'\n",
       "\\item 'n\\_genes\\_by\\_counts'\n",
       "\\item 'total\\_counts'\n",
       "\\item 'total\\_counts\\_mt'\n",
       "\\item 'pct\\_counts\\_mt'\n",
       "\\end{enumerate*}\n"
      ],
      "text/markdown": [
       "1. 'orig.ident'\n",
       "2. 'nCount_RNA'\n",
       "3. 'nFeature_RNA'\n",
       "4. 'celltype'\n",
       "5. 'majorType'\n",
       "6. 'sampleID'\n",
       "7. 'PatientID'\n",
       "8. 'datasets'\n",
       "9. 'City'\n",
       "10. 'Age'\n",
       "11. 'Sex'\n",
       "12. 'Sample.type'\n",
       "13. 'CoVID.19.severity'\n",
       "14. 'Sample.time'\n",
       "15. 'Sampling.day..Days.after.symptom.onset.'\n",
       "16. 'SARS.CoV.2'\n",
       "17. 'Single.cell.sequencing.platform'\n",
       "18. 'BCR.single.cell.sequencing'\n",
       "19. 'TCR.single.cell.sequencing'\n",
       "20. 'Outcome'\n",
       "21. 'Comorbidities'\n",
       "22. 'COVID.19.related.medication.and.anti.microbials'\n",
       "23. 'Leukocytes..G.L.'\n",
       "24. 'Neutrophils..G.L.'\n",
       "25. 'Lymphocytes..G.L.'\n",
       "26. 'Unpublished'\n",
       "27. 'n_genes_by_counts'\n",
       "28. 'total_counts'\n",
       "29. 'total_counts_mt'\n",
       "30. 'pct_counts_mt'\n",
       "\n",
       "\n"
      ],
      "text/plain": [
       " [1] \"orig.ident\"                                     \n",
       " [2] \"nCount_RNA\"                                     \n",
       " [3] \"nFeature_RNA\"                                   \n",
       " [4] \"celltype\"                                       \n",
       " [5] \"majorType\"                                      \n",
       " [6] \"sampleID\"                                       \n",
       " [7] \"PatientID\"                                      \n",
       " [8] \"datasets\"                                       \n",
       " [9] \"City\"                                           \n",
       "[10] \"Age\"                                            \n",
       "[11] \"Sex\"                                            \n",
       "[12] \"Sample.type\"                                    \n",
       "[13] \"CoVID.19.severity\"                              \n",
       "[14] \"Sample.time\"                                    \n",
       "[15] \"Sampling.day..Days.after.symptom.onset.\"        \n",
       "[16] \"SARS.CoV.2\"                                     \n",
       "[17] \"Single.cell.sequencing.platform\"                \n",
       "[18] \"BCR.single.cell.sequencing\"                     \n",
       "[19] \"TCR.single.cell.sequencing\"                     \n",
       "[20] \"Outcome\"                                        \n",
       "[21] \"Comorbidities\"                                  \n",
       "[22] \"COVID.19.related.medication.and.anti.microbials\"\n",
       "[23] \"Leukocytes..G.L.\"                               \n",
       "[24] \"Neutrophils..G.L.\"                              \n",
       "[25] \"Lymphocytes..G.L.\"                              \n",
       "[26] \"Unpublished\"                                    \n",
       "[27] \"n_genes_by_counts\"                              \n",
       "[28] \"total_counts\"                                   \n",
       "[29] \"total_counts_mt\"                                \n",
       "[30] \"pct_counts_mt\"                                  "
      ]
     },
     "metadata": {},
     "output_type": "display_data"
    }
   ],
   "source": [
    "colnames(pbmc@meta.data)"
   ]
  },
  {
   "cell_type": "code",
   "execution_count": 7,
   "id": "b30bdba4-bb8e-4d5b-b3a5-9ce68d92365a",
   "metadata": {},
   "outputs": [],
   "source": [
    "param_list <- initialize_params(ctypes_use = c(\"B\",\"CD4\",\"CD8\",\"NK\",\"Mono\",\"DC\",\"Mega\",\"Plasma\"),\n",
    "                                ncores = 30, rand_seed = 10)\n",
    "\n",
    "pbmc_container <- make_new_container(seurat_obj=pbmc,\n",
    "                                     params=param_list,\n",
    "                                     metadata_cols=c('PatientID',\n",
    "                                                     \"Sex\",\n",
    "                                                     \"majorType\",\n",
    "                                                     'Sample.type',\n",
    "                                                     'CoVID.19.severity',\n",
    "                                                     'Sample.time',\n",
    "                                                     'Single.cell.sequencing.platform',\n",
    "                                                     'Outcome',\n",
    "                                                     'Comorbidities',\n",
    "                                                     'COVID.19.related.medication.and.anti.microbials'),\n",
    "                                     metadata_col_nm=c('donors',\n",
    "                                                       'sex',\n",
    "                                                       'ctypes',\n",
    "                                                       'fresh_frozen',\n",
    "                                                       'covid_severity',\n",
    "                                                       'sample_time',\n",
    "                                                       'sequencing_platform',\n",
    "                                                       'outcome',\n",
    "                                                       'comorbidities',\n",
    "                                                       'medications'))"
   ]
  },
  {
   "cell_type": "code",
   "execution_count": 8,
   "id": "2c815f47-bc29-4d63-bd0a-314219146838",
   "metadata": {},
   "outputs": [
    {
     "name": "stdout",
     "output_type": "stream",
     "text": [
      "[1] \"parsing data matrix by cell/tissue type...\"\n",
      "[1] \"cleaning data...\"\n",
      "[1] \"collapsing count matrices from cells to donors (aka pseudobulk operation)...\"\n",
      "[1] \"normalizing data...\"\n",
      "[1] \"calculating gene overdispersion factors...\"\n",
      "[1] \"selecting highly variable genes from each cell type...\"\n",
      "[1] \"scaling variance...\"\n",
      "[1] \"forming tensor...\"\n",
      "[1] \"Complete!\"\n"
     ]
    }
   ],
   "source": [
    "pbmc_container <- form_tensor(pbmc_container, donor_min_cells=20, gene_min_cells=0,\n",
    "                              norm_method='trim', scale_factor=10000,\n",
    "                              vargenes_method='norm_var_pvals', vargenes_thresh=.05,\n",
    "                              scale_var = TRUE, var_scale_power = .5)"
   ]
  },
  {
   "cell_type": "code",
   "execution_count": 10,
   "id": "1e5412b5-9b0e-42ef-84bc-7107e39420bb",
   "metadata": {},
   "outputs": [
    {
     "data": {
      "text/html": [
       "<style>\n",
       ".list-inline {list-style: none; margin:0; padding: 0}\n",
       ".list-inline>li {display: inline-block}\n",
       ".list-inline>li:not(:last-child)::after {content: \"\\00b7\"; padding: 0 .5ex}\n",
       "</style>\n",
       "<ol class=list-inline><li>33</li><li>3795</li></ol>\n"
      ],
      "text/latex": [
       "\\begin{enumerate*}\n",
       "\\item 33\n",
       "\\item 3795\n",
       "\\end{enumerate*}\n"
      ],
      "text/markdown": [
       "1. 33\n",
       "2. 3795\n",
       "\n",
       "\n"
      ],
      "text/plain": [
       "[1]   33 3795"
      ]
     },
     "metadata": {},
     "output_type": "display_data"
    }
   ],
   "source": [
    "dim(pbmc_container$scMinimal_ctype[[1]]$pseudobulk)"
   ]
  },
  {
   "cell_type": "code",
   "execution_count": 9,
   "id": "9d49481f-7884-4831-91ef-640b3d360531",
   "metadata": {},
   "outputs": [
    {
     "ename": "ERROR",
     "evalue": "Error in dimnames(x) <- dn: length of 'dimnames' [1] not equal to array extent\n",
     "output_type": "error",
     "traceback": [
      "Error in dimnames(x) <- dn: length of 'dimnames' [1] not equal to array extent\nTraceback:\n",
      "1. run_tucker_ica(pbmc_container, ranks = c(7, 20, 7), tucker_type = \"regular\", \n .     rotation_type = \"ica\")",
      "2. tucker_ica_helper3(tensor_data, ranks, tucker_type, rotation_type, \n .     sparsity)   # at line 26 of file /d0/home/jmitchel/scITD/R/run_tucker_ica.R",
      "3. `rownames<-`(`*tmp*`, value = c(\"B\", \"CD4\", \"CD8\", \"NK\", \"Mono\", \n . \"DC\", \"Mega\", \"Plasma\"))   # at line 261 of file /d0/home/jmitchel/scITD/R/run_tucker_ica.R"
     ]
    }
   ],
   "source": [
    "pbmc_container <- run_tucker_ica(pbmc_container, ranks=c(7,20,7),\n",
    "                                 tucker_type = 'regular', rotation_type = 'ica')"
   ]
  },
  {
   "cell_type": "code",
   "execution_count": null,
   "id": "86ffcdb7-5cc3-4eed-9736-94094af991ad",
   "metadata": {},
   "outputs": [],
   "source": [
    "# get factor-meta data associations\n",
    "pbmc_container <- get_meta_associations(pbmc_container,vars_test=c('sex','Age','pool','processing','Status','Ethnicity'),\n",
    "                                        stat_use='pval')\n",
    "\n",
    "# plot donor scores by status\n",
    "pbmc_container <- plot_donor_matrix(pbmc_container, meta_vars=c('sex'),\n",
    "                                    cluster_by_meta = 'sex',\n",
    "                                    show_donor_ids = FALSE,\n",
    "                                    add_meta_associations='pval')\n",
    "pbmc_container <- plot_donor_matrix(pbmc_container, meta_vars=c('sex','processing','pool'),\n",
    "                                    cluster_by_meta = 'pool',\n",
    "                                    show_donor_ids = FALSE,\n",
    "                                    add_meta_associations='pval')\n",
    "\n",
    "pbmc_container$plots$donor_matrix"
   ]
  },
  {
   "cell_type": "code",
   "execution_count": null,
   "id": "d275f2e9-f49e-4a03-ac30-dd5155654358",
   "metadata": {},
   "outputs": [],
   "source": []
  },
  {
   "cell_type": "code",
   "execution_count": null,
   "id": "caeddf50-5fb4-4eaf-aef3-c8e1653b4c5f",
   "metadata": {},
   "outputs": [],
   "source": []
  },
  {
   "cell_type": "code",
   "execution_count": null,
   "id": "7d16d584-aa39-4a60-986f-1140ba93b35e",
   "metadata": {},
   "outputs": [],
   "source": []
  },
  {
   "cell_type": "code",
   "execution_count": null,
   "id": "1e298a12-4a63-4500-b6bb-af5d81cd2b23",
   "metadata": {},
   "outputs": [],
   "source": []
  }
 ],
 "metadata": {
  "kernelspec": {
   "display_name": "R",
   "language": "R",
   "name": "ir"
  },
  "language_info": {
   "codemirror_mode": "r",
   "file_extension": ".r",
   "mimetype": "text/x-r-source",
   "name": "R",
   "pygments_lexer": "r",
   "version": "4.1.1"
  }
 },
 "nbformat": 4,
 "nbformat_minor": 5
}
