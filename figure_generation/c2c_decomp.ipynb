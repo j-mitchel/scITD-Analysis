{
 "cells": [
  {
   "cell_type": "code",
   "execution_count": 66,
   "id": "a479ffae-6a3a-45cf-970c-e05312ca0b52",
   "metadata": {},
   "outputs": [],
   "source": [
    "import pandas as pd\n",
    "import scanpy as sc\n",
    "import anndata as ad\n",
    "from tqdm import tqdm\n",
    "import cell2cell as c2c\n",
    "import os\n",
    "import liana as li\n",
    "from cell2cell.preprocessing import aggregate_single_cells \n",
    "from collections import defaultdict"
   ]
  },
  {
   "cell_type": "code",
   "execution_count": 9,
   "id": "038b81d3-b81f-4d0c-8280-59fc9597e5c4",
   "metadata": {},
   "outputs": [],
   "source": [
    "# load the data object\n",
    "adata = sc.read_h5ad(\"/home/jmitchel/data/temp_test_data/lupus_subsetted_seurat_v3_for_scanpy.h5ad\")\n"
   ]
  },
  {
   "cell_type": "code",
   "execution_count": 23,
   "id": "693fc92b-a77c-4128-a434-8bbb890834df",
   "metadata": {},
   "outputs": [
    {
     "name": "stdout",
     "output_type": "stream",
     "text": [
      "                                                             batch_cov  \\\n",
      "CTAACTTCAATGAATG-1-1-0-0-0-0-0-0-0-0-0-0-0-0-0-...  dmx_YS-JY-22_pool6   \n",
      "GGCTCGATCGTTGACA-1-1-0-0-0-0-0-0-0-0-0-0-0-0-0-...  dmx_YS-JY-20_pool3   \n",
      "CCACCTAAGGGCTTCC-1-1-0-0-0-0-0-0-0-0-0-0-0-0-0-...  dmx_YS-JY-22_pool5   \n",
      "GTCACGGAGATTACCC-1-1-0-0-0-0-0-0-0-0-0-0-0-0-0-...          dmx_YE_8-2   \n",
      "TGACAACAGAATTCCC-1-1-0-0-0-0-0-0-0-0-0-0-0-0-0-...         dmx_YE_7-20   \n",
      "\n",
      "                                                      ind_cov  \\\n",
      "CTAACTTCAATGAATG-1-1-0-0-0-0-0-0-0-0-0-0-0-0-0-...  1132_1132   \n",
      "GGCTCGATCGTTGACA-1-1-0-0-0-0-0-0-0-0-0-0-0-0-0-...  1110_1110   \n",
      "CCACCTAAGGGCTTCC-1-1-0-0-0-0-0-0-0-0-0-0-0-0-0-...  1333_1333   \n",
      "GTCACGGAGATTACCC-1-1-0-0-0-0-0-0-0-0-0-0-0-0-0-...  1368_1368   \n",
      "TGACAACAGAATTCCC-1-1-0-0-0-0-0-0-0-0-0-0-0-0-0-...  1197_1197   \n",
      "\n",
      "                                                   Processing_Cohort  louvain  \\\n",
      "CTAACTTCAATGAATG-1-1-0-0-0-0-0-0-0-0-0-0-0-0-0-...                L3        7   \n",
      "GGCTCGATCGTTGACA-1-1-0-0-0-0-0-0-0-0-0-0-0-0-0-...                L3        3   \n",
      "CCACCTAAGGGCTTCC-1-1-0-0-0-0-0-0-0-0-0-0-0-0-0-...                L3       15   \n",
      "GTCACGGAGATTACCC-1-1-0-0-0-0-0-0-0-0-0-0-0-0-0-...           L1_UCSF        1   \n",
      "TGACAACAGAATTCCC-1-1-0-0-0-0-0-0-0-0-0-0-0-0-0-...           L1_UCSF        6   \n",
      "\n",
      "                                                   cg_cov   ct_cov  L3  \\\n",
      "CTAACTTCAATGAATG-1-1-0-0-0-0-0-0-0-0-0-0-0-0-0-...  cMono       cM   1   \n",
      "GGCTCGATCGTTGACA-1-1-0-0-0-0-0-0-0-0-0-0-0-0-0-...      B     Bmem   1   \n",
      "CCACCTAAGGGCTTCC-1-1-0-0-0-0-0-0-0-0-0-0-0-0-0-...     Th    T4reg   1   \n",
      "GTCACGGAGATTACCC-1-1-0-0-0-0-0-0-0-0-0-0-0-0-0-...     Th  T4naive   0   \n",
      "TGACAACAGAATTCCC-1-1-0-0-0-0-0-0-0-0-0-0-0-0-0-...     NK    NKdim   0   \n",
      "\n",
      "                                                               ind_cov_batch_cov  \\\n",
      "CTAACTTCAATGAATG-1-1-0-0-0-0-0-0-0-0-0-0-0-0-0-...  1132_1132:dmx_YS-JY-22_pool6   \n",
      "GGCTCGATCGTTGACA-1-1-0-0-0-0-0-0-0-0-0-0-0-0-0-...  1110_1110:dmx_YS-JY-20_pool3   \n",
      "CCACCTAAGGGCTTCC-1-1-0-0-0-0-0-0-0-0-0-0-0-0-0-...  1333_1333:dmx_YS-JY-22_pool5   \n",
      "GTCACGGAGATTACCC-1-1-0-0-0-0-0-0-0-0-0-0-0-0-0-...          1368_1368:dmx_YE_8-2   \n",
      "TGACAACAGAATTCCC-1-1-0-0-0-0-0-0-0-0-0-0-0-0-0-...         1197_1197:dmx_YE_7-20   \n",
      "\n",
      "                                                     Age     sex Ethnicity  \\\n",
      "CTAACTTCAATGAATG-1-1-0-0-0-0-0-0-0-0-0-0-0-0-0-...  45.0  Female  European   \n",
      "GGCTCGATCGTTGACA-1-1-0-0-0-0-0-0-0-0-0-0-0-0-0-...  71.0  Female  European   \n",
      "CCACCTAAGGGCTTCC-1-1-0-0-0-0-0-0-0-0-0-0-0-0-0-...  64.0  Female     Asian   \n",
      "GTCACGGAGATTACCC-1-1-0-0-0-0-0-0-0-0-0-0-0-0-0-...  45.0    Male  European   \n",
      "TGACAACAGAATTCCC-1-1-0-0-0-0-0-0-0-0-0-0-0-0-0-...  42.0  Female     Asian   \n",
      "\n",
      "                                                     Status SLE_status  \\\n",
      "CTAACTTCAATGAATG-1-1-0-0-0-0-0-0-0-0-0-0-0-0-0-...  Managed        SLE   \n",
      "GGCTCGATCGTTGACA-1-1-0-0-0-0-0-0-0-0-0-0-0-0-0-...  Managed        SLE   \n",
      "CCACCTAAGGGCTTCC-1-1-0-0-0-0-0-0-0-0-0-0-0-0-0-...  Managed        SLE   \n",
      "GTCACGGAGATTACCC-1-1-0-0-0-0-0-0-0-0-0-0-0-0-0-...  Managed        SLE   \n",
      "TGACAACAGAATTCCC-1-1-0-0-0-0-0-0-0-0-0-0-0-0-0-...  Managed        SLE   \n",
      "\n",
      "                                                    nCount_RNA  percent.mt  \\\n",
      "CTAACTTCAATGAATG-1-1-0-0-0-0-0-0-0-0-0-0-0-0-0-...       895.0    4.692737   \n",
      "GGCTCGATCGTTGACA-1-1-0-0-0-0-0-0-0-0-0-0-0-0-0-...      1770.0    4.293785   \n",
      "CCACCTAAGGGCTTCC-1-1-0-0-0-0-0-0-0-0-0-0-0-0-0-...      1450.0    1.931034   \n",
      "GTCACGGAGATTACCC-1-1-0-0-0-0-0-0-0-0-0-0-0-0-0-...      1905.0    2.729659   \n",
      "TGACAACAGAATTCCC-1-1-0-0-0-0-0-0-0-0-0-0-0-0-0-...      1135.0    3.436123   \n",
      "\n",
      "                                                    nFeature_RNA  \n",
      "CTAACTTCAATGAATG-1-1-0-0-0-0-0-0-0-0-0-0-0-0-0-...           472  \n",
      "GGCTCGATCGTTGACA-1-1-0-0-0-0-0-0-0-0-0-0-0-0-0-...           517  \n",
      "CCACCTAAGGGCTTCC-1-1-0-0-0-0-0-0-0-0-0-0-0-0-0-...           420  \n",
      "GTCACGGAGATTACCC-1-1-0-0-0-0-0-0-0-0-0-0-0-0-0-...           554  \n",
      "TGACAACAGAATTCCC-1-1-0-0-0-0-0-0-0-0-0-0-0-0-0-...           634  \n"
     ]
    }
   ],
   "source": [
    "print(adata.obs.head())"
   ]
  },
  {
   "cell_type": "code",
   "execution_count": 11,
   "id": "239e5d85-daa7-4242-a1d9-c7fd4cab1186",
   "metadata": {},
   "outputs": [],
   "source": [
    "adata.obs[\"cg_cov\"] = pd.Series(adata.obs[\"cg_cov\"], dtype='category')"
   ]
  },
  {
   "cell_type": "code",
   "execution_count": 12,
   "id": "ff709f05-fd23-43a3-8b9f-e582ca7b97bb",
   "metadata": {},
   "outputs": [
    {
     "data": {
      "text/plain": [
       "Index(['B', 'NK', 'PB', 'Progen', 'Prolif', 'Tc', 'Th', 'cDC', 'cMono',\n",
       "       'ncMono', 'pDC'],\n",
       "      dtype='object')"
      ]
     },
     "execution_count": 12,
     "metadata": {},
     "output_type": "execute_result"
    }
   ],
   "source": [
    "adata.obs[\"cg_cov\"].cat.categories"
   ]
  },
  {
   "cell_type": "code",
   "execution_count": 13,
   "id": "e45b7788-37eb-4ffc-adb7-1dc9cd1e2c7e",
   "metadata": {},
   "outputs": [],
   "source": [
    "# subset data to cell types also used in scITD analysis\n",
    "adata = adata[adata.obs['cg_cov'].isin([\"B\",\"NK\",\"Th\",\"Tc\",\"cDC\",\"cMono\",\"ncMono\"])]"
   ]
  },
  {
   "cell_type": "code",
   "execution_count": 15,
   "id": "2dcc89a3-4766-4fff-9308-cdb5ad8dfdbd",
   "metadata": {},
   "outputs": [],
   "source": [
    "sample_key = 'ind_cov_batch_cov'\n",
    "condition_key = 'SLE_status'\n",
    "groupby = 'cg_cov'"
   ]
  },
  {
   "cell_type": "code",
   "execution_count": 16,
   "id": "35838aeb-62d6-4153-9164-11ac350565ec",
   "metadata": {},
   "outputs": [
    {
     "name": "stderr",
     "output_type": "stream",
     "text": [
      "/home/jmitchel/miniconda3/envs/sandbox/lib/python3.8/site-packages/scanpy/preprocessing/_normalization.py:169: UserWarning: Received a view of an AnnData. Making a copy.\n"
     ]
    }
   ],
   "source": [
    "# log1p normalize the data\n",
    "sc.pp.normalize_total(adata)\n",
    "sc.pp.log1p(adata)"
   ]
  },
  {
   "cell_type": "code",
   "execution_count": 17,
   "id": "5bb39648-c80f-456f-a237-ead4810cf3a4",
   "metadata": {},
   "outputs": [
    {
     "name": "stderr",
     "output_type": "stream",
     "text": [
      "Converting `ind_cov_batch_cov` to categorical!\n",
      "Now running: 1004_1004:dmx_YE_7-13:   0%|               | 0/136 [00:00<?, ?it/s]/home/jmitchel/miniconda3/envs/sandbox/lib/python3.8/site-packages/liana/method/_pipe_utils/_pre.py:148: ImplicitModificationWarning: Trying to modify attribute `.obs` of view, initializing view as actual.\n",
      "Now running: 1014_1014:dmx_YS-JY-22_pool5:   1%| | 1/136 [00:06<15:00,  6.67s/it/home/jmitchel/miniconda3/envs/sandbox/lib/python3.8/site-packages/liana/method/_pipe_utils/_pre.py:148: ImplicitModificationWarning: Trying to modify attribute `.obs` of view, initializing view as actual.\n",
      "Now running: 1015_1015:dmx_YS-JY-20_pool4:   1%| | 2/136 [00:12<13:13,  5.92s/it/home/jmitchel/miniconda3/envs/sandbox/lib/python3.8/site-packages/liana/method/_pipe_utils/_pre.py:148: ImplicitModificationWarning: Trying to modify attribute `.obs` of view, initializing view as actual.\n",
      "Now running: 1019_1019:dmx_YE_7-13:   2%|▏      | 3/136 [00:19<14:31,  6.55s/it]/home/jmitchel/miniconda3/envs/sandbox/lib/python3.8/site-packages/liana/method/_pipe_utils/_pre.py:148: ImplicitModificationWarning: Trying to modify attribute `.obs` of view, initializing view as actual.\n",
      "Now running: 1022_1022:dmx_YE_7-13:   3%|▏      | 4/136 [00:26<15:03,  6.85s/it]/home/jmitchel/miniconda3/envs/sandbox/lib/python3.8/site-packages/liana/method/_pipe_utils/_pre.py:148: ImplicitModificationWarning: Trying to modify attribute `.obs` of view, initializing view as actual.\n",
      "Now running: 1031_1031:dmx_YE_7-13:   4%|▎      | 5/136 [00:33<14:48,  6.78s/it]/home/jmitchel/miniconda3/envs/sandbox/lib/python3.8/site-packages/liana/method/_pipe_utils/_pre.py:148: ImplicitModificationWarning: Trying to modify attribute `.obs` of view, initializing view as actual.\n",
      "Now running: 1039_1039:dmx_YS-JY-22_pool5:   4%| | 6/136 [00:39<14:35,  6.74s/it/home/jmitchel/miniconda3/envs/sandbox/lib/python3.8/site-packages/liana/method/_pipe_utils/_pre.py:148: ImplicitModificationWarning: Trying to modify attribute `.obs` of view, initializing view as actual.\n",
      "Now running: 1045_1045:dmx_YE_7-13:   5%|▎      | 7/136 [00:45<13:39,  6.35s/it]/home/jmitchel/miniconda3/envs/sandbox/lib/python3.8/site-packages/liana/method/_pipe_utils/_pre.py:148: ImplicitModificationWarning: Trying to modify attribute `.obs` of view, initializing view as actual.\n",
      "Now running: 1046_1046:dmx_YE_7-13:   6%|▍      | 8/136 [00:52<13:59,  6.56s/it]/home/jmitchel/miniconda3/envs/sandbox/lib/python3.8/site-packages/liana/method/_pipe_utils/_pre.py:148: ImplicitModificationWarning: Trying to modify attribute `.obs` of view, initializing view as actual.\n",
      "Now running: 1051_1051:dmx_YE_7-13:   7%|▍      | 9/136 [01:00<14:35,  6.90s/it]/home/jmitchel/miniconda3/envs/sandbox/lib/python3.8/site-packages/liana/method/_pipe_utils/_pre.py:148: ImplicitModificationWarning: Trying to modify attribute `.obs` of view, initializing view as actual.\n",
      "Now running: 1054_1054:dmx_YE_7-13:   7%|▍     | 10/136 [01:06<14:12,  6.76s/it]/home/jmitchel/miniconda3/envs/sandbox/lib/python3.8/site-packages/liana/method/_pipe_utils/_pre.py:148: ImplicitModificationWarning: Trying to modify attribute `.obs` of view, initializing view as actual.\n",
      "Now running: 1056_1056:dmx_YE_7-19:   8%|▍     | 11/136 [01:13<14:02,  6.74s/it]/home/jmitchel/miniconda3/envs/sandbox/lib/python3.8/site-packages/liana/method/_pipe_utils/_pre.py:148: ImplicitModificationWarning: Trying to modify attribute `.obs` of view, initializing view as actual.\n",
      "Now running: 1063_1063:dmx_YE_7-13:   9%|▌     | 12/136 [01:20<14:17,  6.91s/it]/home/jmitchel/miniconda3/envs/sandbox/lib/python3.8/site-packages/liana/method/_pipe_utils/_pre.py:148: ImplicitModificationWarning: Trying to modify attribute `.obs` of view, initializing view as actual.\n",
      "Now running: 1068_1068:dmx_YE_7-13:  10%|▌     | 13/136 [01:27<13:58,  6.82s/it]/home/jmitchel/miniconda3/envs/sandbox/lib/python3.8/site-packages/liana/method/_pipe_utils/_pre.py:148: ImplicitModificationWarning: Trying to modify attribute `.obs` of view, initializing view as actual.\n",
      "Now running: 1078_1078:dmx_YS-JY-20_pool4:  10%| | 14/136 [01:34<14:08,  6.96s/i/home/jmitchel/miniconda3/envs/sandbox/lib/python3.8/site-packages/liana/method/_pipe_utils/_pre.py:148: ImplicitModificationWarning: Trying to modify attribute `.obs` of view, initializing view as actual.\n",
      "Now running: 1087_1087:dmx_YE_7-19:  11%|▋     | 15/136 [01:41<14:04,  6.98s/it]/home/jmitchel/miniconda3/envs/sandbox/lib/python3.8/site-packages/liana/method/_pipe_utils/_pre.py:148: ImplicitModificationWarning: Trying to modify attribute `.obs` of view, initializing view as actual.\n",
      "Now running: 1101_1101:dmx_YS-JY-21_pool1:  12%| | 16/136 [01:49<14:18,  7.16s/i/home/jmitchel/miniconda3/envs/sandbox/lib/python3.8/site-packages/liana/method/_pipe_utils/_pre.py:148: ImplicitModificationWarning: Trying to modify attribute `.obs` of view, initializing view as actual.\n",
      "Now running: 1110_1110:dmx_YS-JY-20_pool3:  12%|▏| 17/136 [01:53<12:48,  6.46s/i/home/jmitchel/miniconda3/envs/sandbox/lib/python3.8/site-packages/liana/method/_pipe_utils/_pre.py:148: ImplicitModificationWarning: Trying to modify attribute `.obs` of view, initializing view as actual.\n",
      "Now running: 1119_1119:dmx_YE_7-19:  13%|▊     | 18/136 [01:59<12:22,  6.29s/it]/home/jmitchel/miniconda3/envs/sandbox/lib/python3.8/site-packages/liana/method/_pipe_utils/_pre.py:148: ImplicitModificationWarning: Trying to modify attribute `.obs` of view, initializing view as actual.\n",
      "Now running: 1121_1121:dmx_YE_7-19:  14%|▊     | 19/136 [02:07<12:54,  6.62s/it]/home/jmitchel/miniconda3/envs/sandbox/lib/python3.8/site-packages/liana/method/_pipe_utils/_pre.py:148: ImplicitModificationWarning: Trying to modify attribute `.obs` of view, initializing view as actual.\n",
      "Now running: 1122_1122:dmx_YE_7-19:  15%|▉     | 20/136 [02:15<13:31,  7.00s/it]/home/jmitchel/miniconda3/envs/sandbox/lib/python3.8/site-packages/liana/method/_pipe_utils/_pre.py:148: ImplicitModificationWarning: Trying to modify attribute `.obs` of view, initializing view as actual.\n",
      "Now running: 1127_1127:dmx_YE_7-19:  15%|▉     | 21/136 [02:22<13:44,  7.17s/it]/home/jmitchel/miniconda3/envs/sandbox/lib/python3.8/site-packages/liana/method/_pipe_utils/_pre.py:148: ImplicitModificationWarning: Trying to modify attribute `.obs` of view, initializing view as actual.\n",
      "Now running: 1130_1130:dmx_YE_7-19:  16%|▉     | 22/136 [02:29<13:23,  7.04s/it]/home/jmitchel/miniconda3/envs/sandbox/lib/python3.8/site-packages/liana/method/_pipe_utils/_pre.py:148: ImplicitModificationWarning: Trying to modify attribute `.obs` of view, initializing view as actual.\n",
      "Now running: 1132_1132:dmx_YS-JY-22_pool6:  17%|▏| 23/136 [02:36<13:33,  7.20s/i/home/jmitchel/miniconda3/envs/sandbox/lib/python3.8/site-packages/liana/method/_pipe_utils/_pre.py:148: ImplicitModificationWarning: Trying to modify attribute `.obs` of view, initializing view as actual.\n",
      "Now running: 1165_1165:dmx_YE_7-20:  18%|█     | 24/136 [02:42<12:39,  6.78s/it]/home/jmitchel/miniconda3/envs/sandbox/lib/python3.8/site-packages/liana/method/_pipe_utils/_pre.py:148: ImplicitModificationWarning: Trying to modify attribute `.obs` of view, initializing view as actual.\n",
      "Now running: 1193_1193:dmx_YE_7-20:  18%|█     | 25/136 [02:49<12:14,  6.62s/it]/home/jmitchel/miniconda3/envs/sandbox/lib/python3.8/site-packages/liana/method/_pipe_utils/_pre.py:148: ImplicitModificationWarning: Trying to modify attribute `.obs` of view, initializing view as actual.\n",
      "Now running: 1195_1195:dmx_YE_7-20:  19%|█▏    | 26/136 [02:55<11:53,  6.48s/it]/home/jmitchel/miniconda3/envs/sandbox/lib/python3.8/site-packages/liana/method/_pipe_utils/_pre.py:148: ImplicitModificationWarning: Trying to modify attribute `.obs` of view, initializing view as actual.\n",
      "Now running: 1196_1196:dmx_YE_7-19:  20%|█▏    | 27/136 [03:00<11:15,  6.20s/it]/home/jmitchel/miniconda3/envs/sandbox/lib/python3.8/site-packages/liana/method/_pipe_utils/_pre.py:148: ImplicitModificationWarning: Trying to modify attribute `.obs` of view, initializing view as actual.\n",
      "Now running: 1197_1197:dmx_YE_7-20:  21%|█▏    | 28/136 [03:07<11:31,  6.40s/it]/home/jmitchel/miniconda3/envs/sandbox/lib/python3.8/site-packages/liana/method/_pipe_utils/_pre.py:148: ImplicitModificationWarning: Trying to modify attribute `.obs` of view, initializing view as actual.\n",
      "Now running: 1203_1203:dmx_YE_7-19:  21%|█▎    | 29/136 [03:13<11:19,  6.35s/it]/home/jmitchel/miniconda3/envs/sandbox/lib/python3.8/site-packages/liana/method/_pipe_utils/_pre.py:148: ImplicitModificationWarning: Trying to modify attribute `.obs` of view, initializing view as actual.\n",
      "Now running: 1216_1216:dmx_YE_7-20:  22%|█▎    | 30/136 [03:21<11:44,  6.64s/it]/home/jmitchel/miniconda3/envs/sandbox/lib/python3.8/site-packages/liana/method/_pipe_utils/_pre.py:148: ImplicitModificationWarning: Trying to modify attribute `.obs` of view, initializing view as actual.\n",
      "Now running: 1219_1219:dmx_YE_7-20:  23%|█▎    | 31/136 [03:27<11:15,  6.44s/it]/home/jmitchel/miniconda3/envs/sandbox/lib/python3.8/site-packages/liana/method/_pipe_utils/_pre.py:148: ImplicitModificationWarning: Trying to modify attribute `.obs` of view, initializing view as actual.\n",
      "Now running: 1221_1221:dmx_YE_7-20:  24%|█▍    | 32/136 [03:33<11:00,  6.35s/it]/home/jmitchel/miniconda3/envs/sandbox/lib/python3.8/site-packages/liana/method/_pipe_utils/_pre.py:148: ImplicitModificationWarning: Trying to modify attribute `.obs` of view, initializing view as actual.\n",
      "Now running: 1222_1222:dmx_YS-JY-20_pool3:  24%|▏| 33/136 [03:40<11:09,  6.50s/i/home/jmitchel/miniconda3/envs/sandbox/lib/python3.8/site-packages/liana/method/_pipe_utils/_pre.py:148: ImplicitModificationWarning: Trying to modify attribute `.obs` of view, initializing view as actual.\n",
      "Now running: 1225_1225:dmx_YS-JY-22_pool6:  25%|▎| 34/136 [03:46<10:50,  6.38s/i/home/jmitchel/miniconda3/envs/sandbox/lib/python3.8/site-packages/liana/method/_pipe_utils/_pre.py:148: ImplicitModificationWarning: Trying to modify attribute `.obs` of view, initializing view as actual.\n",
      "Now running: 1226_1226:dmx_YE_7-20:  26%|█▌    | 35/136 [03:52<10:41,  6.36s/it]/home/jmitchel/miniconda3/envs/sandbox/lib/python3.8/site-packages/liana/method/_pipe_utils/_pre.py:148: ImplicitModificationWarning: Trying to modify attribute `.obs` of view, initializing view as actual.\n",
      "Now running: 1234_1234:dmx_YE_7-20:  26%|█▌    | 36/136 [03:58<10:36,  6.37s/it]/home/jmitchel/miniconda3/envs/sandbox/lib/python3.8/site-packages/liana/method/_pipe_utils/_pre.py:148: ImplicitModificationWarning: Trying to modify attribute `.obs` of view, initializing view as actual.\n",
      "Now running: 1240_1240:dmx_YE_7-26:  27%|█▋    | 37/136 [04:05<10:25,  6.32s/it]/home/jmitchel/miniconda3/envs/sandbox/lib/python3.8/site-packages/liana/method/_pipe_utils/_pre.py:148: ImplicitModificationWarning: Trying to modify attribute `.obs` of view, initializing view as actual.\n",
      "Now running: 1243_1243:dmx_YS-JY-21_pool1:  28%|▎| 38/136 [04:12<10:40,  6.53s/i/home/jmitchel/miniconda3/envs/sandbox/lib/python3.8/site-packages/liana/method/_pipe_utils/_pre.py:148: ImplicitModificationWarning: Trying to modify attribute `.obs` of view, initializing view as actual.\n",
      "Now running: 1248_1248:dmx_YE_7-26:  29%|█▋    | 39/136 [04:17<10:04,  6.24s/it]/home/jmitchel/miniconda3/envs/sandbox/lib/python3.8/site-packages/liana/method/_pipe_utils/_pre.py:148: ImplicitModificationWarning: Trying to modify attribute `.obs` of view, initializing view as actual.\n",
      "Now running: 1249_1249:dmx_YS-JY-21_pool2:  29%|▎| 40/136 [04:24<10:24,  6.51s/i/home/jmitchel/miniconda3/envs/sandbox/lib/python3.8/site-packages/liana/method/_pipe_utils/_pre.py:148: ImplicitModificationWarning: Trying to modify attribute `.obs` of view, initializing view as actual.\n",
      "Now running: 1250_1250:dmx_YE_7-20:  30%|█▊    | 41/136 [04:30<09:47,  6.19s/it]/home/jmitchel/miniconda3/envs/sandbox/lib/python3.8/site-packages/liana/method/_pipe_utils/_pre.py:148: ImplicitModificationWarning: Trying to modify attribute `.obs` of view, initializing view as actual.\n",
      "Now running: 1251_1251:dmx_YE_7-26:  31%|█▊    | 42/136 [04:36<09:35,  6.12s/it]/home/jmitchel/miniconda3/envs/sandbox/lib/python3.8/site-packages/liana/method/_pipe_utils/_pre.py:148: ImplicitModificationWarning: Trying to modify attribute `.obs` of view, initializing view as actual.\n",
      "Now running: 1256_1256:dmx_YS-JY-21_pool2:  32%|▎| 43/136 [04:43<10:05,  6.51s/i/home/jmitchel/miniconda3/envs/sandbox/lib/python3.8/site-packages/liana/method/_pipe_utils/_pre.py:148: ImplicitModificationWarning: Trying to modify attribute `.obs` of view, initializing view as actual.\n",
      "Now running: 1259_1259:dmx_YS-JY-22_pool6:  32%|▎| 44/136 [04:49<09:32,  6.23s/i/home/jmitchel/miniconda3/envs/sandbox/lib/python3.8/site-packages/liana/method/_pipe_utils/_pre.py:148: ImplicitModificationWarning: Trying to modify attribute `.obs` of view, initializing view as actual.\n",
      "Now running: 1262_1262:dmx_YE_7-26:  33%|█▉    | 45/136 [04:55<09:32,  6.29s/it]/home/jmitchel/miniconda3/envs/sandbox/lib/python3.8/site-packages/liana/method/_pipe_utils/_pre.py:148: ImplicitModificationWarning: Trying to modify attribute `.obs` of view, initializing view as actual.\n",
      "Now running: 1270_1270:dmx_YE_7-26:  34%|██    | 46/136 [05:02<09:43,  6.48s/it]/home/jmitchel/miniconda3/envs/sandbox/lib/python3.8/site-packages/liana/method/_pipe_utils/_pre.py:148: ImplicitModificationWarning: Trying to modify attribute `.obs` of view, initializing view as actual.\n",
      "Now running: 1279_1279:dmx_YE_7-26:  35%|██    | 47/136 [05:09<10:00,  6.75s/it]/home/jmitchel/miniconda3/envs/sandbox/lib/python3.8/site-packages/liana/method/_pipe_utils/_pre.py:148: ImplicitModificationWarning: Trying to modify attribute `.obs` of view, initializing view as actual.\n",
      "Now running: 1281_1281:dmx_YE_7-26:  35%|██    | 48/136 [05:17<10:02,  6.84s/it]/home/jmitchel/miniconda3/envs/sandbox/lib/python3.8/site-packages/liana/method/_pipe_utils/_pre.py:148: ImplicitModificationWarning: Trying to modify attribute `.obs` of view, initializing view as actual.\n",
      "Now running: 1285_1285:dmx_YS-JY-22_pool5:  36%|▎| 49/136 [05:24<10:03,  6.93s/i/home/jmitchel/miniconda3/envs/sandbox/lib/python3.8/site-packages/liana/method/_pipe_utils/_pre.py:148: ImplicitModificationWarning: Trying to modify attribute `.obs` of view, initializing view as actual.\n",
      "Now running: 1294_1294:dmx_YE_8-2:  37%|██▌    | 50/136 [05:30<09:31,  6.65s/it]/home/jmitchel/miniconda3/envs/sandbox/lib/python3.8/site-packages/liana/method/_pipe_utils/_pre.py:148: ImplicitModificationWarning: Trying to modify attribute `.obs` of view, initializing view as actual.\n",
      "Now running: 1297_1297:dmx_YE_7-26:  38%|██▎   | 51/136 [05:36<09:28,  6.69s/it]/home/jmitchel/miniconda3/envs/sandbox/lib/python3.8/site-packages/liana/method/_pipe_utils/_pre.py:148: ImplicitModificationWarning: Trying to modify attribute `.obs` of view, initializing view as actual.\n",
      "Now running: 1315_1315:dmx_YE_7-26:  38%|██▎   | 52/136 [05:43<09:25,  6.73s/it]/home/jmitchel/miniconda3/envs/sandbox/lib/python3.8/site-packages/liana/method/_pipe_utils/_pre.py:148: ImplicitModificationWarning: Trying to modify attribute `.obs` of view, initializing view as actual.\n",
      "Now running: 1320_1320:dmx_YS-JY-22_pool6:  39%|▍| 53/136 [05:51<09:54,  7.16s/i/home/jmitchel/miniconda3/envs/sandbox/lib/python3.8/site-packages/liana/method/_pipe_utils/_pre.py:148: ImplicitModificationWarning: Trying to modify attribute `.obs` of view, initializing view as actual.\n",
      "Now running: 1324_1324:dmx_YE_8-2:  40%|██▊    | 54/136 [05:58<09:26,  6.91s/it]/home/jmitchel/miniconda3/envs/sandbox/lib/python3.8/site-packages/liana/method/_pipe_utils/_pre.py:148: ImplicitModificationWarning: Trying to modify attribute `.obs` of view, initializing view as actual.\n",
      "Now running: 1325_1325:dmx_YS-JY-22_pool5:  40%|▍| 55/136 [06:05<09:18,  6.90s/i/home/jmitchel/miniconda3/envs/sandbox/lib/python3.8/site-packages/liana/method/_pipe_utils/_pre.py:148: ImplicitModificationWarning: Trying to modify attribute `.obs` of view, initializing view as actual.\n",
      "Now running: 1326_1326:dmx_YS-JY-21_pool1:  41%|▍| 56/136 [06:12<09:19,  7.00s/i/home/jmitchel/miniconda3/envs/sandbox/lib/python3.8/site-packages/liana/method/_pipe_utils/_pre.py:148: ImplicitModificationWarning: Trying to modify attribute `.obs` of view, initializing view as actual.\n",
      "Now running: 1329_1329:dmx_YE_8-2:  42%|██▉    | 57/136 [06:18<08:43,  6.62s/it]/home/jmitchel/miniconda3/envs/sandbox/lib/python3.8/site-packages/liana/method/_pipe_utils/_pre.py:148: ImplicitModificationWarning: Trying to modify attribute `.obs` of view, initializing view as actual.\n",
      "Now running: 1333_1333:dmx_YS-JY-22_pool5:  43%|▍| 58/136 [06:24<08:32,  6.57s/i/home/jmitchel/miniconda3/envs/sandbox/lib/python3.8/site-packages/liana/method/_pipe_utils/_pre.py:148: ImplicitModificationWarning: Trying to modify attribute `.obs` of view, initializing view as actual.\n",
      "Now running: 1334_1334:dmx_YS-JY-21_pool1:  43%|▍| 59/136 [06:30<08:16,  6.45s/i/home/jmitchel/miniconda3/envs/sandbox/lib/python3.8/site-packages/liana/method/_pipe_utils/_pre.py:148: ImplicitModificationWarning: Trying to modify attribute `.obs` of view, initializing view as actual.\n",
      "Now running: 1337_1337:dmx_YE_7-26:  44%|██▋   | 60/136 [06:36<07:53,  6.23s/it]/home/jmitchel/miniconda3/envs/sandbox/lib/python3.8/site-packages/liana/method/_pipe_utils/_pre.py:148: ImplicitModificationWarning: Trying to modify attribute `.obs` of view, initializing view as actual.\n",
      "Now running: 1338_1338:dmx_YE_7-26:  45%|██▋   | 61/136 [06:43<08:16,  6.61s/it]/home/jmitchel/miniconda3/envs/sandbox/lib/python3.8/site-packages/liana/method/_pipe_utils/_pre.py:148: ImplicitModificationWarning: Trying to modify attribute `.obs` of view, initializing view as actual.\n",
      "Now running: 1340_1340:dmx_YE_8-2:  46%|███▏   | 62/136 [06:51<08:19,  6.75s/it]/home/jmitchel/miniconda3/envs/sandbox/lib/python3.8/site-packages/liana/method/_pipe_utils/_pre.py:148: ImplicitModificationWarning: Trying to modify attribute `.obs` of view, initializing view as actual.\n",
      "Now running: 1341_1341:dmx_YE_8-2:  46%|███▏   | 63/136 [06:56<07:48,  6.41s/it]/home/jmitchel/miniconda3/envs/sandbox/lib/python3.8/site-packages/liana/method/_pipe_utils/_pre.py:148: ImplicitModificationWarning: Trying to modify attribute `.obs` of view, initializing view as actual.\n",
      "Now running: 1366_1366:dmx_YE_8-3:  47%|███▎   | 64/136 [07:02<07:37,  6.36s/it]/home/jmitchel/miniconda3/envs/sandbox/lib/python3.8/site-packages/liana/method/_pipe_utils/_pre.py:148: ImplicitModificationWarning: Trying to modify attribute `.obs` of view, initializing view as actual.\n",
      "Now running: 1368_1368:dmx_YE_8-2:  48%|███▎   | 65/136 [07:09<07:41,  6.50s/it]/home/jmitchel/miniconda3/envs/sandbox/lib/python3.8/site-packages/liana/method/_pipe_utils/_pre.py:148: ImplicitModificationWarning: Trying to modify attribute `.obs` of view, initializing view as actual.\n",
      "Now running: 1404_1404:dmx_YE_8-3:  49%|███▍   | 66/136 [07:16<07:30,  6.44s/it]/home/jmitchel/miniconda3/envs/sandbox/lib/python3.8/site-packages/liana/method/_pipe_utils/_pre.py:148: ImplicitModificationWarning: Trying to modify attribute `.obs` of view, initializing view as actual.\n",
      "Now running: 1414_1414:dmx_YE_8-2:  49%|███▍   | 67/136 [07:22<07:35,  6.60s/it]/home/jmitchel/miniconda3/envs/sandbox/lib/python3.8/site-packages/liana/method/_pipe_utils/_pre.py:148: ImplicitModificationWarning: Trying to modify attribute `.obs` of view, initializing view as actual.\n",
      "Now running: 1417_1417:dmx_YE_8-3:  50%|███▌   | 68/136 [07:29<07:25,  6.55s/it]/home/jmitchel/miniconda3/envs/sandbox/lib/python3.8/site-packages/liana/method/_pipe_utils/_pre.py:148: ImplicitModificationWarning: Trying to modify attribute `.obs` of view, initializing view as actual.\n",
      "Now running: 1418_1418:dmx_YE_8-3:  51%|███▌   | 69/136 [07:36<07:31,  6.74s/it]/home/jmitchel/miniconda3/envs/sandbox/lib/python3.8/site-packages/liana/method/_pipe_utils/_pre.py:148: ImplicitModificationWarning: Trying to modify attribute `.obs` of view, initializing view as actual.\n",
      "Now running: 1419_1419:dmx_YS-JY-22_pool6:  51%|▌| 70/136 [07:43<07:21,  6.69s/i/home/jmitchel/miniconda3/envs/sandbox/lib/python3.8/site-packages/liana/method/_pipe_utils/_pre.py:148: ImplicitModificationWarning: Trying to modify attribute `.obs` of view, initializing view as actual.\n",
      "Now running: 1420_1420:dmx_YS-JY-21_pool2:  52%|▌| 71/136 [07:49<07:07,  6.57s/i/home/jmitchel/miniconda3/envs/sandbox/lib/python3.8/site-packages/liana/method/_pipe_utils/_pre.py:148: ImplicitModificationWarning: Trying to modify attribute `.obs` of view, initializing view as actual.\n",
      "Now running: 1445_1445:dmx_YS-JY-20_pool3:  53%|▌| 72/136 [07:54<06:35,  6.17s/i/home/jmitchel/miniconda3/envs/sandbox/lib/python3.8/site-packages/liana/method/_pipe_utils/_pre.py:148: ImplicitModificationWarning: Trying to modify attribute `.obs` of view, initializing view as actual.\n",
      "Now running: 1452_1452:dmx_YS-JY-20_pool3:  54%|▌| 73/136 [08:00<06:15,  5.96s/i/home/jmitchel/miniconda3/envs/sandbox/lib/python3.8/site-packages/liana/method/_pipe_utils/_pre.py:148: ImplicitModificationWarning: Trying to modify attribute `.obs` of view, initializing view as actual.\n",
      "Now running: 1493_1493:dmx_YS-JY-21_pool1:  54%|▌| 74/136 [08:06<06:21,  6.16s/i/home/jmitchel/miniconda3/envs/sandbox/lib/python3.8/site-packages/liana/method/_pipe_utils/_pre.py:148: ImplicitModificationWarning: Trying to modify attribute `.obs` of view, initializing view as actual.\n",
      "Now running: 1496_1496:dmx_YS-JY-20_pool3:  55%|▌| 75/136 [08:12<06:14,  6.14s/i/home/jmitchel/miniconda3/envs/sandbox/lib/python3.8/site-packages/liana/method/_pipe_utils/_pre.py:148: ImplicitModificationWarning: Trying to modify attribute `.obs` of view, initializing view as actual.\n",
      "Now running: 1510_1510:dmx_YS-JY-21_pool1:  56%|▌| 76/136 [08:18<06:05,  6.10s/i/home/jmitchel/miniconda3/envs/sandbox/lib/python3.8/site-packages/liana/method/_pipe_utils/_pre.py:148: ImplicitModificationWarning: Trying to modify attribute `.obs` of view, initializing view as actual.\n",
      "Now running: 1514_1514:dmx_YS-JY-22_pool6:  57%|▌| 77/136 [08:24<05:49,  5.92s/i/home/jmitchel/miniconda3/envs/sandbox/lib/python3.8/site-packages/liana/method/_pipe_utils/_pre.py:148: ImplicitModificationWarning: Trying to modify attribute `.obs` of view, initializing view as actual.\n",
      "Now running: 1543_1543:dmx_YE_8-3:  57%|████   | 78/136 [08:30<05:47,  6.00s/it]/home/jmitchel/miniconda3/envs/sandbox/lib/python3.8/site-packages/liana/method/_pipe_utils/_pre.py:148: ImplicitModificationWarning: Trying to modify attribute `.obs` of view, initializing view as actual.\n",
      "Now running: 1545_1545:dmx_YS-JY-22_pool6:  58%|▌| 79/136 [08:37<05:50,  6.15s/i/home/jmitchel/miniconda3/envs/sandbox/lib/python3.8/site-packages/liana/method/_pipe_utils/_pre.py:148: ImplicitModificationWarning: Trying to modify attribute `.obs` of view, initializing view as actual.\n",
      "Now running: 1558_1558:dmx_YE_8-3:  59%|████   | 80/136 [08:43<05:49,  6.23s/it]/home/jmitchel/miniconda3/envs/sandbox/lib/python3.8/site-packages/liana/method/_pipe_utils/_pre.py:148: ImplicitModificationWarning: Trying to modify attribute `.obs` of view, initializing view as actual.\n",
      "Now running: 1567_1567:dmx_YE_8-16:  60%|███▌  | 81/136 [08:50<05:55,  6.46s/it]/home/jmitchel/miniconda3/envs/sandbox/lib/python3.8/site-packages/liana/method/_pipe_utils/_pre.py:148: ImplicitModificationWarning: Trying to modify attribute `.obs` of view, initializing view as actual.\n",
      "Now running: 1569_1569:dmx_YE_8-3:  60%|████▏  | 82/136 [08:56<05:35,  6.22s/it]/home/jmitchel/miniconda3/envs/sandbox/lib/python3.8/site-packages/liana/method/_pipe_utils/_pre.py:148: ImplicitModificationWarning: Trying to modify attribute `.obs` of view, initializing view as actual.\n",
      "Now running: 1582_1582:dmx_YE_8-16:  61%|███▋  | 83/136 [09:02<05:36,  6.35s/it]/home/jmitchel/miniconda3/envs/sandbox/lib/python3.8/site-packages/liana/method/_pipe_utils/_pre.py:148: ImplicitModificationWarning: Trying to modify attribute `.obs` of view, initializing view as actual.\n",
      "Now running: 1584_1584:dmx_YE_8-16:  62%|███▋  | 84/136 [09:08<05:26,  6.28s/it]/home/jmitchel/miniconda3/envs/sandbox/lib/python3.8/site-packages/liana/method/_pipe_utils/_pre.py:148: ImplicitModificationWarning: Trying to modify attribute `.obs` of view, initializing view as actual.\n",
      "Now running: 1588_1588:dmx_YE_8-3:  62%|████▍  | 85/136 [09:15<05:27,  6.43s/it]/home/jmitchel/miniconda3/envs/sandbox/lib/python3.8/site-packages/liana/method/_pipe_utils/_pre.py:148: ImplicitModificationWarning: Trying to modify attribute `.obs` of view, initializing view as actual.\n",
      "Now running: 1596_1596:dmx_YS-JY-20_pool3:  63%|▋| 86/136 [09:22<05:29,  6.58s/i/home/jmitchel/miniconda3/envs/sandbox/lib/python3.8/site-packages/liana/method/_pipe_utils/_pre.py:148: ImplicitModificationWarning: Trying to modify attribute `.obs` of view, initializing view as actual.\n",
      "Now running: 1597_1597:dmx_YE_8-16:  64%|███▊  | 87/136 [09:29<05:25,  6.64s/it]/home/jmitchel/miniconda3/envs/sandbox/lib/python3.8/site-packages/liana/method/_pipe_utils/_pre.py:148: ImplicitModificationWarning: Trying to modify attribute `.obs` of view, initializing view as actual.\n",
      "Now running: 1614_1614:dmx_YS-JY-22_pool5:  65%|▋| 88/136 [09:37<05:40,  7.08s/i/home/jmitchel/miniconda3/envs/sandbox/lib/python3.8/site-packages/liana/method/_pipe_utils/_pre.py:148: ImplicitModificationWarning: Trying to modify attribute `.obs` of view, initializing view as actual.\n",
      "Now running: 1623_1623:dmx_YE_8-16:  65%|███▉  | 89/136 [09:44<05:29,  7.00s/it]/home/jmitchel/miniconda3/envs/sandbox/lib/python3.8/site-packages/liana/method/_pipe_utils/_pre.py:148: ImplicitModificationWarning: Trying to modify attribute `.obs` of view, initializing view as actual.\n",
      "Now running: 1633_1633:dmx_YE_8-17:  66%|███▉  | 90/136 [09:51<05:20,  6.96s/it]/home/jmitchel/miniconda3/envs/sandbox/lib/python3.8/site-packages/liana/method/_pipe_utils/_pre.py:148: ImplicitModificationWarning: Trying to modify attribute `.obs` of view, initializing view as actual.\n",
      "Now running: 1641_1641:dmx_YE_8-17:  67%|████  | 91/136 [09:57<05:09,  6.88s/it]/home/jmitchel/miniconda3/envs/sandbox/lib/python3.8/site-packages/liana/method/_pipe_utils/_pre.py:148: ImplicitModificationWarning: Trying to modify attribute `.obs` of view, initializing view as actual.\n",
      "Now running: 1660_1660:dmx_YS-JY-21_pool2:  68%|▋| 92/136 [10:05<05:07,  7.00s/i/home/jmitchel/miniconda3/envs/sandbox/lib/python3.8/site-packages/liana/method/_pipe_utils/_pre.py:148: ImplicitModificationWarning: Trying to modify attribute `.obs` of view, initializing view as actual.\n",
      "Now running: 1667_1667:dmx_YS-JY-21_pool1:  68%|▋| 93/136 [10:10<04:41,  6.54s/i/home/jmitchel/miniconda3/envs/sandbox/lib/python3.8/site-packages/liana/method/_pipe_utils/_pre.py:148: ImplicitModificationWarning: Trying to modify attribute `.obs` of view, initializing view as actual.\n",
      "Now running: 1672_1672:dmx_YE_8-17:  69%|████▏ | 94/136 [10:16<04:21,  6.22s/it]/home/jmitchel/miniconda3/envs/sandbox/lib/python3.8/site-packages/liana/method/_pipe_utils/_pre.py:148: ImplicitModificationWarning: Trying to modify attribute `.obs` of view, initializing view as actual.\n",
      "Now running: 1680_1680:dmx_YS-JY-22_pool6:  70%|▋| 95/136 [10:22<04:22,  6.39s/i/home/jmitchel/miniconda3/envs/sandbox/lib/python3.8/site-packages/liana/method/_pipe_utils/_pre.py:148: ImplicitModificationWarning: Trying to modify attribute `.obs` of view, initializing view as actual.\n",
      "Now running: 1682_1682:dmx_YS-JY-21_pool2:  71%|▋| 96/136 [10:29<04:18,  6.46s/i/home/jmitchel/miniconda3/envs/sandbox/lib/python3.8/site-packages/liana/method/_pipe_utils/_pre.py:148: ImplicitModificationWarning: Trying to modify attribute `.obs` of view, initializing view as actual.\n",
      "Now running: 1716_1716:dmx_YS-JY-20_pool3:  71%|▋| 97/136 [10:35<04:03,  6.23s/i/home/jmitchel/miniconda3/envs/sandbox/lib/python3.8/site-packages/liana/method/_pipe_utils/_pre.py:148: ImplicitModificationWarning: Trying to modify attribute `.obs` of view, initializing view as actual.\n",
      "Now running: 1721_1721:dmx_YS-JY-22_pool6:  72%|▋| 98/136 [10:41<03:52,  6.13s/i/home/jmitchel/miniconda3/envs/sandbox/lib/python3.8/site-packages/liana/method/_pipe_utils/_pre.py:148: ImplicitModificationWarning: Trying to modify attribute `.obs` of view, initializing view as actual.\n",
      "Now running: 1730_1730:dmx_YS-JY-21_pool1:  73%|▋| 99/136 [10:47<03:54,  6.35s/i/home/jmitchel/miniconda3/envs/sandbox/lib/python3.8/site-packages/liana/method/_pipe_utils/_pre.py:148: ImplicitModificationWarning: Trying to modify attribute `.obs` of view, initializing view as actual.\n",
      "Now running: 1731_1731:dmx_YE_8-16:  74%|███▋ | 100/136 [10:53<03:40,  6.14s/it]/home/jmitchel/miniconda3/envs/sandbox/lib/python3.8/site-packages/liana/method/_pipe_utils/_pre.py:148: ImplicitModificationWarning: Trying to modify attribute `.obs` of view, initializing view as actual.\n",
      "Now running: 1737_1737:dmx_YS-JY-22_pool5:  74%|▋| 101/136 [11:01<03:51,  6.62s//home/jmitchel/miniconda3/envs/sandbox/lib/python3.8/site-packages/liana/method/_pipe_utils/_pre.py:148: ImplicitModificationWarning: Trying to modify attribute `.obs` of view, initializing view as actual.\n",
      "Now running: 1741_1741:dmx_YE_8-23:  75%|███▊ | 102/136 [11:08<03:45,  6.63s/it]/home/jmitchel/miniconda3/envs/sandbox/lib/python3.8/site-packages/liana/method/_pipe_utils/_pre.py:148: ImplicitModificationWarning: Trying to modify attribute `.obs` of view, initializing view as actual.\n",
      "Now running: 1743_1743:dmx_YS-JY-21_pool1:  76%|▊| 103/136 [11:14<03:34,  6.51s//home/jmitchel/miniconda3/envs/sandbox/lib/python3.8/site-packages/liana/method/_pipe_utils/_pre.py:148: ImplicitModificationWarning: Trying to modify attribute `.obs` of view, initializing view as actual.\n",
      "Now running: 1754_1754:dmx_YE_8-23:  76%|███▊ | 104/136 [11:19<03:17,  6.18s/it]/home/jmitchel/miniconda3/envs/sandbox/lib/python3.8/site-packages/liana/method/_pipe_utils/_pre.py:148: ImplicitModificationWarning: Trying to modify attribute `.obs` of view, initializing view as actual.\n",
      "Now running: 1760_1760:dmx_YE_8-16:  77%|███▊ | 105/136 [11:26<03:16,  6.34s/it]/home/jmitchel/miniconda3/envs/sandbox/lib/python3.8/site-packages/liana/method/_pipe_utils/_pre.py:148: ImplicitModificationWarning: Trying to modify attribute `.obs` of view, initializing view as actual.\n",
      "Now running: 1763_1763:dmx_YE_8-23:  78%|███▉ | 106/136 [11:33<03:18,  6.63s/it]/home/jmitchel/miniconda3/envs/sandbox/lib/python3.8/site-packages/liana/method/_pipe_utils/_pre.py:148: ImplicitModificationWarning: Trying to modify attribute `.obs` of view, initializing view as actual.\n",
      "Now running: 1767_1767:dmx_YE_8-23:  79%|███▉ | 107/136 [11:40<03:11,  6.61s/it]/home/jmitchel/miniconda3/envs/sandbox/lib/python3.8/site-packages/liana/method/_pipe_utils/_pre.py:148: ImplicitModificationWarning: Trying to modify attribute `.obs` of view, initializing view as actual.\n",
      "Now running: 1768_1768:dmx_YS-JY-21_pool2:  79%|▊| 108/136 [11:46<03:03,  6.54s//home/jmitchel/miniconda3/envs/sandbox/lib/python3.8/site-packages/liana/method/_pipe_utils/_pre.py:148: ImplicitModificationWarning: Trying to modify attribute `.obs` of view, initializing view as actual.\n",
      "Now running: 1771_1771:dmx_YE_8-23:  80%|████ | 109/136 [11:51<02:46,  6.18s/it]/home/jmitchel/miniconda3/envs/sandbox/lib/python3.8/site-packages/liana/method/_pipe_utils/_pre.py:148: ImplicitModificationWarning: Trying to modify attribute `.obs` of view, initializing view as actual.\n",
      "Now running: 1772_1772:dmx_YS-JY-20_pool4:  81%|▊| 110/136 [11:58<02:44,  6.31s//home/jmitchel/miniconda3/envs/sandbox/lib/python3.8/site-packages/liana/method/_pipe_utils/_pre.py:148: ImplicitModificationWarning: Trying to modify attribute `.obs` of view, initializing view as actual.\n",
      "Now running: 1775_1775:dmx_YE_8-16:  82%|████ | 111/136 [12:05<02:44,  6.57s/it]/home/jmitchel/miniconda3/envs/sandbox/lib/python3.8/site-packages/liana/method/_pipe_utils/_pre.py:148: ImplicitModificationWarning: Trying to modify attribute `.obs` of view, initializing view as actual.\n",
      "Now running: 1785_1785:dmx_YE_8-16:  82%|████ | 112/136 [12:12<02:41,  6.73s/it]/home/jmitchel/miniconda3/envs/sandbox/lib/python3.8/site-packages/liana/method/_pipe_utils/_pre.py:148: ImplicitModificationWarning: Trying to modify attribute `.obs` of view, initializing view as actual.\n",
      "Now running: 1791_1791:dmx_YE_8-23:  83%|████▏| 113/136 [12:20<02:39,  6.96s/it]/home/jmitchel/miniconda3/envs/sandbox/lib/python3.8/site-packages/liana/method/_pipe_utils/_pre.py:148: ImplicitModificationWarning: Trying to modify attribute `.obs` of view, initializing view as actual.\n",
      "Now running: 1799_1799:dmx_YE_8-16:  84%|████▏| 114/136 [12:26<02:30,  6.84s/it]/home/jmitchel/miniconda3/envs/sandbox/lib/python3.8/site-packages/liana/method/_pipe_utils/_pre.py:148: ImplicitModificationWarning: Trying to modify attribute `.obs` of view, initializing view as actual.\n",
      "Now running: 1804_1804:dmx_YE_8-23:  85%|████▏| 115/136 [12:34<02:25,  6.93s/it]/home/jmitchel/miniconda3/envs/sandbox/lib/python3.8/site-packages/liana/method/_pipe_utils/_pre.py:148: ImplicitModificationWarning: Trying to modify attribute `.obs` of view, initializing view as actual.\n",
      "Now running: 1811_1811:dmx_YS-JY-20_pool4:  85%|▊| 116/136 [12:42<02:25,  7.27s//home/jmitchel/miniconda3/envs/sandbox/lib/python3.8/site-packages/liana/method/_pipe_utils/_pre.py:148: ImplicitModificationWarning: Trying to modify attribute `.obs` of view, initializing view as actual.\n",
      "Now running: 1815_1815:dmx_YE_8-17:  86%|████▎| 117/136 [12:47<02:07,  6.71s/it]/home/jmitchel/miniconda3/envs/sandbox/lib/python3.8/site-packages/liana/method/_pipe_utils/_pre.py:148: ImplicitModificationWarning: Trying to modify attribute `.obs` of view, initializing view as actual.\n",
      "Now running: 1827_1827:dmx_YE_8-17:  87%|████▎| 118/136 [12:53<01:59,  6.63s/it]/home/jmitchel/miniconda3/envs/sandbox/lib/python3.8/site-packages/liana/method/_pipe_utils/_pre.py:148: ImplicitModificationWarning: Trying to modify attribute `.obs` of view, initializing view as actual.\n",
      "Now running: 1829_1829:dmx_YE_8-17:  88%|████▍| 119/136 [13:00<01:52,  6.60s/it]/home/jmitchel/miniconda3/envs/sandbox/lib/python3.8/site-packages/liana/method/_pipe_utils/_pre.py:148: ImplicitModificationWarning: Trying to modify attribute `.obs` of view, initializing view as actual.\n",
      "Now running: 1848_1848:dmx_YE_8-17:  88%|████▍| 120/136 [13:06<01:44,  6.56s/it]/home/jmitchel/miniconda3/envs/sandbox/lib/python3.8/site-packages/liana/method/_pipe_utils/_pre.py:148: ImplicitModificationWarning: Trying to modify attribute `.obs` of view, initializing view as actual.\n",
      "Now running: 1857_1857:dmx_YS-JY-20_pool4:  89%|▉| 121/136 [13:14<01:41,  6.76s//home/jmitchel/miniconda3/envs/sandbox/lib/python3.8/site-packages/liana/method/_pipe_utils/_pre.py:148: ImplicitModificationWarning: Trying to modify attribute `.obs` of view, initializing view as actual.\n",
      "Now running: 1881_1881:dmx_YS-JY-20_pool3:  90%|▉| 122/136 [13:21<01:36,  6.86s//home/jmitchel/miniconda3/envs/sandbox/lib/python3.8/site-packages/liana/method/_pipe_utils/_pre.py:148: ImplicitModificationWarning: Trying to modify attribute `.obs` of view, initializing view as actual.\n",
      "Now running: 1886_1886:dmx_YS-JY-20_pool4:  90%|▉| 123/136 [13:27<01:26,  6.67s//home/jmitchel/miniconda3/envs/sandbox/lib/python3.8/site-packages/liana/method/_pipe_utils/_pre.py:148: ImplicitModificationWarning: Trying to modify attribute `.obs` of view, initializing view as actual.\n",
      "Now running: 1888_1888:dmx_YS-JY-21_pool2:  91%|▉| 124/136 [13:33<01:18,  6.58s//home/jmitchel/miniconda3/envs/sandbox/lib/python3.8/site-packages/liana/method/_pipe_utils/_pre.py:148: ImplicitModificationWarning: Trying to modify attribute `.obs` of view, initializing view as actual.\n",
      "Now running: 1891_1891:dmx_YE_8-17:  92%|████▌| 125/136 [13:39<01:09,  6.36s/it]/home/jmitchel/miniconda3/envs/sandbox/lib/python3.8/site-packages/liana/method/_pipe_utils/_pre.py:148: ImplicitModificationWarning: Trying to modify attribute `.obs` of view, initializing view as actual.\n",
      "Now running: 1892_1892:dmx_YE_8-17:  93%|████▋| 126/136 [13:46<01:05,  6.60s/it]/home/jmitchel/miniconda3/envs/sandbox/lib/python3.8/site-packages/liana/method/_pipe_utils/_pre.py:148: ImplicitModificationWarning: Trying to modify attribute `.obs` of view, initializing view as actual.\n",
      "Now running: 1909_1909:dmx_YS-JY-20_pool3:  93%|▉| 127/136 [13:53<00:59,  6.65s//home/jmitchel/miniconda3/envs/sandbox/lib/python3.8/site-packages/liana/method/_pipe_utils/_pre.py:148: ImplicitModificationWarning: Trying to modify attribute `.obs` of view, initializing view as actual.\n",
      "Now running: 1928_1928:dmx_YS-JY-20_pool3:  94%|▉| 128/136 [14:00<00:53,  6.71s//home/jmitchel/miniconda3/envs/sandbox/lib/python3.8/site-packages/liana/method/_pipe_utils/_pre.py:148: ImplicitModificationWarning: Trying to modify attribute `.obs` of view, initializing view as actual.\n",
      "Now running: 1941_1941:dmx_YS-JY-21_pool2:  95%|▉| 129/136 [14:06<00:45,  6.54s//home/jmitchel/miniconda3/envs/sandbox/lib/python3.8/site-packages/liana/method/_pipe_utils/_pre.py:148: ImplicitModificationWarning: Trying to modify attribute `.obs` of view, initializing view as actual.\n",
      "Now running: 1947_1947:dmx_YE_8-23:  96%|████▊| 130/136 [14:12<00:38,  6.34s/it]/home/jmitchel/miniconda3/envs/sandbox/lib/python3.8/site-packages/liana/method/_pipe_utils/_pre.py:148: ImplicitModificationWarning: Trying to modify attribute `.obs` of view, initializing view as actual.\n",
      "Now running: 1958_1958:dmx_YE_8-23:  96%|████▊| 131/136 [14:21<00:35,  7.01s/it]/home/jmitchel/miniconda3/envs/sandbox/lib/python3.8/site-packages/liana/method/_pipe_utils/_pre.py:148: ImplicitModificationWarning: Trying to modify attribute `.obs` of view, initializing view as actual.\n",
      "Now running: 1961_1961:dmx_YE_8-23:  97%|████▊| 132/136 [14:27<00:26,  6.75s/it]/home/jmitchel/miniconda3/envs/sandbox/lib/python3.8/site-packages/liana/method/_pipe_utils/_pre.py:148: ImplicitModificationWarning: Trying to modify attribute `.obs` of view, initializing view as actual.\n",
      "Now running: 2061_2061:dmx_YS-JY-22_pool5:  98%|▉| 133/136 [14:33<00:20,  6.71s//home/jmitchel/miniconda3/envs/sandbox/lib/python3.8/site-packages/liana/method/_pipe_utils/_pre.py:148: ImplicitModificationWarning: Trying to modify attribute `.obs` of view, initializing view as actual.\n",
      "Now running: 2082_2082:dmx_YS-JY-20_pool4:  99%|▉| 134/136 [14:40<00:13,  6.78s//home/jmitchel/miniconda3/envs/sandbox/lib/python3.8/site-packages/liana/method/_pipe_utils/_pre.py:148: ImplicitModificationWarning: Trying to modify attribute `.obs` of view, initializing view as actual.\n",
      "Now running: 2135_2135:dmx_YS-JY-20_pool4:  99%|▉| 135/136 [14:47<00:06,  6.76s//home/jmitchel/miniconda3/envs/sandbox/lib/python3.8/site-packages/liana/method/_pipe_utils/_pre.py:148: ImplicitModificationWarning: Trying to modify attribute `.obs` of view, initializing view as actual.\n",
      "Now running: 2135_2135:dmx_YS-JY-20_pool4: 100%|█| 136/136 [14:55<00:00,  6.58s/\n"
     ]
    }
   ],
   "source": [
    "li.mt.rank_aggregate.by_sample(\n",
    "    adata,\n",
    "    groupby=groupby,\n",
    "    sample_key=sample_key, # sample key by which we which to loop\n",
    "    use_raw=False,\n",
    "    verbose=True, # use 'full' to show all verbose information\n",
    "    n_perms=100, # reduce permutations for speed\n",
    "    return_all_lrs=True, # return all LR values\n",
    "    )"
   ]
  },
  {
   "cell_type": "code",
   "execution_count": 18,
   "id": "7eed83c6-e432-4991-9611-f35cd391111a",
   "metadata": {},
   "outputs": [
    {
     "data": {
      "text/html": [
       "<div>\n",
       "<style scoped>\n",
       "    .dataframe tbody tr th:only-of-type {\n",
       "        vertical-align: middle;\n",
       "    }\n",
       "\n",
       "    .dataframe tbody tr th {\n",
       "        vertical-align: top;\n",
       "    }\n",
       "\n",
       "    .dataframe thead th {\n",
       "        text-align: right;\n",
       "    }\n",
       "</style>\n",
       "<table border=\"1\" class=\"dataframe\">\n",
       "  <thead>\n",
       "    <tr style=\"text-align: right;\">\n",
       "      <th></th>\n",
       "      <th>ind_cov_batch_cov</th>\n",
       "      <th>source</th>\n",
       "      <th>target</th>\n",
       "      <th>ligand_complex</th>\n",
       "      <th>receptor_complex</th>\n",
       "      <th>lr_means</th>\n",
       "      <th>cellphone_pvals</th>\n",
       "      <th>expr_prod</th>\n",
       "      <th>scaled_weight</th>\n",
       "      <th>lr_logfc</th>\n",
       "      <th>spec_weight</th>\n",
       "      <th>lrscore</th>\n",
       "      <th>specificity_rank</th>\n",
       "      <th>magnitude_rank</th>\n",
       "    </tr>\n",
       "  </thead>\n",
       "  <tbody>\n",
       "    <tr>\n",
       "      <th>558296</th>\n",
       "      <td>1046_1046:dmx_YE_7-13</td>\n",
       "      <td>cMono</td>\n",
       "      <td>cMono</td>\n",
       "      <td>S100A9</td>\n",
       "      <td>ITGB2</td>\n",
       "      <td>2.312496</td>\n",
       "      <td>0.0</td>\n",
       "      <td>3.589198</td>\n",
       "      <td>1.564312</td>\n",
       "      <td>2.713204</td>\n",
       "      <td>0.086039</td>\n",
       "      <td>0.979666</td>\n",
       "      <td>4.319342e-07</td>\n",
       "      <td>4.016890e-09</td>\n",
       "    </tr>\n",
       "    <tr>\n",
       "      <th>3098603</th>\n",
       "      <td>1251_1251:dmx_YE_7-26</td>\n",
       "      <td>Tc</td>\n",
       "      <td>NK</td>\n",
       "      <td>B2M</td>\n",
       "      <td>KLRD1</td>\n",
       "      <td>2.311096</td>\n",
       "      <td>0.0</td>\n",
       "      <td>2.743186</td>\n",
       "      <td>1.352175</td>\n",
       "      <td>0.947636</td>\n",
       "      <td>0.104585</td>\n",
       "      <td>0.974496</td>\n",
       "      <td>7.866733e-07</td>\n",
       "      <td>4.652390e-09</td>\n",
       "    </tr>\n",
       "    <tr>\n",
       "      <th>8021112</th>\n",
       "      <td>1785_1785:dmx_YE_8-16</td>\n",
       "      <td>cMono</td>\n",
       "      <td>cMono</td>\n",
       "      <td>S100A9</td>\n",
       "      <td>ITGB2</td>\n",
       "      <td>2.403029</td>\n",
       "      <td>0.0</td>\n",
       "      <td>3.579028</td>\n",
       "      <td>0.938412</td>\n",
       "      <td>2.741604</td>\n",
       "      <td>0.093090</td>\n",
       "      <td>0.977062</td>\n",
       "      <td>7.001955e-07</td>\n",
       "      <td>4.841153e-09</td>\n",
       "    </tr>\n",
       "    <tr>\n",
       "      <th>8582198</th>\n",
       "      <td>1848_1848:dmx_YE_8-17</td>\n",
       "      <td>NK</td>\n",
       "      <td>NK</td>\n",
       "      <td>B2M</td>\n",
       "      <td>KLRD1</td>\n",
       "      <td>2.420676</td>\n",
       "      <td>0.0</td>\n",
       "      <td>3.624712</td>\n",
       "      <td>1.670042</td>\n",
       "      <td>1.300724</td>\n",
       "      <td>0.130136</td>\n",
       "      <td>0.977615</td>\n",
       "      <td>3.428097e-07</td>\n",
       "      <td>4.852626e-09</td>\n",
       "    </tr>\n",
       "    <tr>\n",
       "      <th>1342590</th>\n",
       "      <td>1119_1119:dmx_YE_7-19</td>\n",
       "      <td>cMono</td>\n",
       "      <td>NK</td>\n",
       "      <td>S100A9</td>\n",
       "      <td>ITGB2</td>\n",
       "      <td>2.444128</td>\n",
       "      <td>0.0</td>\n",
       "      <td>4.451901</td>\n",
       "      <td>1.166311</td>\n",
       "      <td>2.748800</td>\n",
       "      <td>0.104850</td>\n",
       "      <td>0.978379</td>\n",
       "      <td>1.233427e-06</td>\n",
       "      <td>4.874446e-09</td>\n",
       "    </tr>\n",
       "    <tr>\n",
       "      <th>3547149</th>\n",
       "      <td>1281_1281:dmx_YE_7-26</td>\n",
       "      <td>NK</td>\n",
       "      <td>NK</td>\n",
       "      <td>B2M</td>\n",
       "      <td>KLRD1</td>\n",
       "      <td>2.383211</td>\n",
       "      <td>0.0</td>\n",
       "      <td>3.486544</td>\n",
       "      <td>1.807612</td>\n",
       "      <td>1.016317</td>\n",
       "      <td>0.123421</td>\n",
       "      <td>0.977821</td>\n",
       "      <td>1.182537e-06</td>\n",
       "      <td>5.058149e-09</td>\n",
       "    </tr>\n",
       "    <tr>\n",
       "      <th>1057165</th>\n",
       "      <td>1078_1078:dmx_YS-JY-20_pool4</td>\n",
       "      <td>NK</td>\n",
       "      <td>NK</td>\n",
       "      <td>B2M</td>\n",
       "      <td>KLRD1</td>\n",
       "      <td>2.541953</td>\n",
       "      <td>0.0</td>\n",
       "      <td>3.600127</td>\n",
       "      <td>1.964628</td>\n",
       "      <td>0.975311</td>\n",
       "      <td>0.106457</td>\n",
       "      <td>0.978586</td>\n",
       "      <td>4.555556e-07</td>\n",
       "      <td>5.069319e-09</td>\n",
       "    </tr>\n",
       "    <tr>\n",
       "      <th>4065128</th>\n",
       "      <td>1325_1325:dmx_YS-JY-22_pool5</td>\n",
       "      <td>NK</td>\n",
       "      <td>NK</td>\n",
       "      <td>B2M</td>\n",
       "      <td>KLRD1</td>\n",
       "      <td>2.422570</td>\n",
       "      <td>0.0</td>\n",
       "      <td>3.129330</td>\n",
       "      <td>1.182703</td>\n",
       "      <td>0.806633</td>\n",
       "      <td>0.104093</td>\n",
       "      <td>0.978236</td>\n",
       "      <td>2.262650e-07</td>\n",
       "      <td>5.083183e-09</td>\n",
       "    </tr>\n",
       "    <tr>\n",
       "      <th>3467181</th>\n",
       "      <td>1279_1279:dmx_YE_7-26</td>\n",
       "      <td>cMono</td>\n",
       "      <td>NK</td>\n",
       "      <td>S100A9</td>\n",
       "      <td>ITGB2</td>\n",
       "      <td>2.390295</td>\n",
       "      <td>0.0</td>\n",
       "      <td>4.030366</td>\n",
       "      <td>1.176235</td>\n",
       "      <td>2.870580</td>\n",
       "      <td>0.108767</td>\n",
       "      <td>0.978135</td>\n",
       "      <td>1.160849e-06</td>\n",
       "      <td>5.095528e-09</td>\n",
       "    </tr>\n",
       "    <tr>\n",
       "      <th>2889912</th>\n",
       "      <td>1248_1248:dmx_YE_7-26</td>\n",
       "      <td>NK</td>\n",
       "      <td>NK</td>\n",
       "      <td>B2M</td>\n",
       "      <td>KLRD1</td>\n",
       "      <td>2.367698</td>\n",
       "      <td>0.0</td>\n",
       "      <td>3.013638</td>\n",
       "      <td>1.419077</td>\n",
       "      <td>0.960940</td>\n",
       "      <td>0.116183</td>\n",
       "      <td>0.975818</td>\n",
       "      <td>9.343632e-07</td>\n",
       "      <td>5.100381e-09</td>\n",
       "    </tr>\n",
       "  </tbody>\n",
       "</table>\n",
       "</div>"
      ],
      "text/plain": [
       "                    ind_cov_batch_cov source target ligand_complex  \\\n",
       "558296          1046_1046:dmx_YE_7-13  cMono  cMono         S100A9   \n",
       "3098603         1251_1251:dmx_YE_7-26     Tc     NK            B2M   \n",
       "8021112         1785_1785:dmx_YE_8-16  cMono  cMono         S100A9   \n",
       "8582198         1848_1848:dmx_YE_8-17     NK     NK            B2M   \n",
       "1342590         1119_1119:dmx_YE_7-19  cMono     NK         S100A9   \n",
       "3547149         1281_1281:dmx_YE_7-26     NK     NK            B2M   \n",
       "1057165  1078_1078:dmx_YS-JY-20_pool4     NK     NK            B2M   \n",
       "4065128  1325_1325:dmx_YS-JY-22_pool5     NK     NK            B2M   \n",
       "3467181         1279_1279:dmx_YE_7-26  cMono     NK         S100A9   \n",
       "2889912         1248_1248:dmx_YE_7-26     NK     NK            B2M   \n",
       "\n",
       "        receptor_complex  lr_means  cellphone_pvals  expr_prod  scaled_weight  \\\n",
       "558296             ITGB2  2.312496              0.0   3.589198       1.564312   \n",
       "3098603            KLRD1  2.311096              0.0   2.743186       1.352175   \n",
       "8021112            ITGB2  2.403029              0.0   3.579028       0.938412   \n",
       "8582198            KLRD1  2.420676              0.0   3.624712       1.670042   \n",
       "1342590            ITGB2  2.444128              0.0   4.451901       1.166311   \n",
       "3547149            KLRD1  2.383211              0.0   3.486544       1.807612   \n",
       "1057165            KLRD1  2.541953              0.0   3.600127       1.964628   \n",
       "4065128            KLRD1  2.422570              0.0   3.129330       1.182703   \n",
       "3467181            ITGB2  2.390295              0.0   4.030366       1.176235   \n",
       "2889912            KLRD1  2.367698              0.0   3.013638       1.419077   \n",
       "\n",
       "         lr_logfc  spec_weight   lrscore  specificity_rank  magnitude_rank  \n",
       "558296   2.713204     0.086039  0.979666      4.319342e-07    4.016890e-09  \n",
       "3098603  0.947636     0.104585  0.974496      7.866733e-07    4.652390e-09  \n",
       "8021112  2.741604     0.093090  0.977062      7.001955e-07    4.841153e-09  \n",
       "8582198  1.300724     0.130136  0.977615      3.428097e-07    4.852626e-09  \n",
       "1342590  2.748800     0.104850  0.978379      1.233427e-06    4.874446e-09  \n",
       "3547149  1.016317     0.123421  0.977821      1.182537e-06    5.058149e-09  \n",
       "1057165  0.975311     0.106457  0.978586      4.555556e-07    5.069319e-09  \n",
       "4065128  0.806633     0.104093  0.978236      2.262650e-07    5.083183e-09  \n",
       "3467181  2.870580     0.108767  0.978135      1.160849e-06    5.095528e-09  \n",
       "2889912  0.960940     0.116183  0.975818      9.343632e-07    5.100381e-09  "
      ]
     },
     "execution_count": 18,
     "metadata": {},
     "output_type": "execute_result"
    }
   ],
   "source": [
    "adata.uns[\"liana_res\"].sort_values(\"magnitude_rank\").head(10)"
   ]
  },
  {
   "cell_type": "code",
   "execution_count": 19,
   "id": "b9699dec-ea63-4669-9f43-58cda10e73db",
   "metadata": {},
   "outputs": [
    {
     "name": "stderr",
     "output_type": "stream",
     "text": [
      "100%|█████████████████████████████████████████| 136/136 [07:01<00:00,  3.10s/it]\n"
     ]
    }
   ],
   "source": [
    "tensor = li.multi.to_tensor_c2c(adata,\n",
    "                                sample_key=sample_key,\n",
    "                                score_key='magnitude_rank', # can be any score from liana\n",
    "                                how='outer_cells' # how to join the samples\n",
    "                                )"
   ]
  },
  {
   "cell_type": "code",
   "execution_count": 20,
   "id": "3f5342db-a730-4d94-ab73-67b332ef29d7",
   "metadata": {},
   "outputs": [
    {
     "data": {
      "text/plain": [
       "(136, 500, 7, 7)"
      ]
     },
     "execution_count": 20,
     "metadata": {},
     "output_type": "execute_result"
    }
   ],
   "source": [
    "tensor.tensor.shape"
   ]
  },
  {
   "cell_type": "code",
   "execution_count": 21,
   "id": "3d21a7a1-c7f3-458c-b86c-a167820809b4",
   "metadata": {},
   "outputs": [
    {
     "name": "stdout",
     "output_type": "stream",
     "text": [
      "/home/jmitchel/data/temp_test_data/lupus_subsetted_seurat_v3_for_scanpy_tensor.pkl  was correctly saved.\n"
     ]
    }
   ],
   "source": [
    "# c2c.io.export_variable_with_pickle(tensor, \"/home/jmitchel/data/temp_test_data/lupus_subsetted_seurat_v3_for_scanpy_tensor.pkl\")"
   ]
  },
  {
   "cell_type": "code",
   "execution_count": 26,
   "id": "81f854bc-af15-408f-9162-5edc9644e183",
   "metadata": {},
   "outputs": [],
   "source": [
    "context_dict = adata.obs[[sample_key, condition_key]].drop_duplicates()\n",
    "context_dict = dict(zip(context_dict[sample_key], context_dict[condition_key]))\n",
    "context_dict = defaultdict(lambda: 'Unknown', context_dict)\n",
    "\n",
    "tensor_meta = c2c.tensor.generate_tensor_metadata(interaction_tensor=tensor,\n",
    "                                                  metadata_dicts=[context_dict, None, None, None],\n",
    "                                                  fill_with_order_elements=True\n",
    "                                                  )"
   ]
  },
  {
   "cell_type": "code",
   "execution_count": 27,
   "id": "9705179e-07e5-4c9d-a305-40b441006a48",
   "metadata": {},
   "outputs": [
    {
     "name": "stdout",
     "output_type": "stream",
     "text": [
      "Running Tensor Factorization\n"
     ]
    }
   ],
   "source": [
    "tensor = c2c.analysis.run_tensor_cell2cell_pipeline(tensor,\n",
    "                                                    tensor_meta,\n",
    "                                                    copy_tensor=True, # Whether to output a new tensor or modifying the original\n",
    "                                                    rank=6, # Number of factors to perform the factorization. If None, it is automatically determined by an elbow analysis. Here, it was precomuputed.\n",
    "                                                    tf_optimization='regular', # To define how robust we want the analysis to be.\n",
    "                                                    random_state=0, # Random seed for reproducibility\n",
    "                                                    device='cpu', # Device to use. If using GPU and PyTorch, use 'cuda'. For CPU use 'cpu'\n",
    "                                                    elbow_metric='error', # Metric to use in the elbow analysis.\n",
    "                                                    smooth_elbow=False, # Whether smoothing the metric of the elbow analysis.\n",
    "                                                    upper_rank=20, # Max number of factors to try in the elbow analysis\n",
    "                                                    tf_init='random', # Initialization method of the tensor factorization\n",
    "                                                    tf_svd='numpy_svd', # Type of SVD to use if the initialization is 'svd'\n",
    "                                                    cmaps=None, # Color palettes to use in color each of the dimensions. Must be a list of palettes.\n",
    "                                                    sample_col='Element', # Columns containing the elements in the tensor metadata\n",
    "                                                    group_col='Category', # Columns containing the major groups in the tensor metadata\n",
    "                                                    output_fig=False, # Whether to output the figures. If False, figures won't be saved a files if a folder was passed in output_folder.\n",
    "                                                    )"
   ]
  },
  {
   "cell_type": "code",
   "execution_count": 28,
   "id": "e06e259e-c043-4210-a761-66915c60f8fb",
   "metadata": {},
   "outputs": [
    {
     "data": {
      "image/png": "[encoded data removed]",
      "text/plain": [
       "<Figure size 1000x800 with 24 Axes>"
      ]
     },
     "metadata": {},
     "output_type": "display_data"
    }
   ],
   "source": [
    "factors, axes = c2c.plotting.tensor_factors_plot(interaction_tensor=tensor,\n",
    "                                                 metadata = tensor_meta, # This is the metadata for each dimension\n",
    "                                                 sample_col='Element',\n",
    "                                                 group_col='Category',\n",
    "                                                 meta_cmaps = ['viridis', 'Dark2_r', 'tab20', 'tab20'],\n",
    "                                                 fontsize=10, # Font size of the figures generated\n",
    "                                                 )"
   ]
  },
  {
   "cell_type": "code",
   "execution_count": 32,
   "id": "48520dac-8ebb-41a3-b22e-cf957ce0b7b1",
   "metadata": {},
   "outputs": [],
   "source": [
    "factors = tensor.factors\n"
   ]
  },
  {
   "cell_type": "code",
   "execution_count": 43,
   "id": "c44fc60b-7a77-45a6-9faa-38f91b6c56c2",
   "metadata": {},
   "outputs": [],
   "source": [
    "lr_loadings = factors['Ligand-Receptor Pairs']\n",
    "sample_loadings = factors['Contexts']\n",
    "ct_send_loadings = factors['Sender Cells']\n",
    "ct_rec_loadings = factors['Receiver Cells']"
   ]
  },
  {
   "cell_type": "code",
   "execution_count": 44,
   "id": "485568cc-2c3a-4ca3-aa0d-28e0efcd9996",
   "metadata": {},
   "outputs": [],
   "source": [
    "# ## saving loadings\n",
    "# lr_loadings.to_csv('/home/jmitchel/data/lupus_data/tensor_c2c_lr_lds.csv')\n",
    "# sample_loadings.to_csv('/home/jmitchel/data/lupus_data/tensor_c2c_donor_lds.csv')\n",
    "# ct_send_loadings.to_csv('/home/jmitchel/data/lupus_data/tensor_c2c_ct_send_lds.csv')\n",
    "# ct_rec_loadings.to_csv('/home/jmitchel/data/lupus_data/tensor_c2c_ct_rec_lds.csv')"
   ]
  },
  {
   "cell_type": "code",
   "execution_count": null,
   "id": "147a5696-cf65-4802-8b84-09f1d5c294b3",
   "metadata": {},
   "outputs": [],
   "source": []
  },
  {
   "cell_type": "code",
   "execution_count": null,
   "id": "beab9804-b6cf-488c-b40b-e8c3e61a5bbd",
   "metadata": {},
   "outputs": [],
   "source": []
  },
  {
   "cell_type": "code",
   "execution_count": 33,
   "id": "da6b9494-59e5-45df-a631-8abc0d349938",
   "metadata": {},
   "outputs": [
    {
     "data": {
      "text/plain": [
       "OrderedDict([('Contexts',\n",
       "                                            Factor 1  Factor 2  Factor 3  Factor 4  \\\n",
       "              1004_1004:dmx_YE_7-13         0.086753  0.091444  0.083869  0.100523   \n",
       "              1014_1014:dmx_YS-JY-22_pool5  0.095190  0.073835  0.081169  0.085095   \n",
       "              1015_1015:dmx_YS-JY-20_pool4  0.086937  0.085028  0.085231  0.096296   \n",
       "              1019_1019:dmx_YE_7-13         0.081886  0.096269  0.092817  0.098966   \n",
       "              1022_1022:dmx_YE_7-13         0.087094  0.096275  0.081643  0.092901   \n",
       "              ...                                ...       ...       ...       ...   \n",
       "              1958_1958:dmx_YE_8-23         0.077399  0.085093  0.078354  0.076169   \n",
       "              1961_1961:dmx_YE_8-23         0.089978  0.083089  0.082627  0.087654   \n",
       "              2061_2061:dmx_YS-JY-22_pool5  0.090040  0.085027  0.093011  0.091792   \n",
       "              2082_2082:dmx_YS-JY-20_pool4  0.072366  0.086488  0.087876  0.089973   \n",
       "              2135_2135:dmx_YS-JY-20_pool4  0.090936  0.100664  0.085475  0.100665   \n",
       "              \n",
       "                                            Factor 5  Factor 6  \n",
       "              1004_1004:dmx_YE_7-13         0.084716  0.084456  \n",
       "              1014_1014:dmx_YS-JY-22_pool5  0.079874  0.079349  \n",
       "              1015_1015:dmx_YS-JY-20_pool4  0.085225  0.087228  \n",
       "              1019_1019:dmx_YE_7-13         0.090214  0.093653  \n",
       "              1022_1022:dmx_YE_7-13         0.092789  0.089924  \n",
       "              ...                                ...       ...  \n",
       "              1958_1958:dmx_YE_8-23         0.080303  0.076593  \n",
       "              1961_1961:dmx_YE_8-23         0.095140  0.079790  \n",
       "              2061_2061:dmx_YS-JY-22_pool5  0.086759  0.085925  \n",
       "              2082_2082:dmx_YS-JY-20_pool4  0.088418  0.083137  \n",
       "              2135_2135:dmx_YS-JY-20_pool4  0.092252  0.088435  \n",
       "              \n",
       "              [136 rows x 6 columns]),\n",
       "             ('Ligand-Receptor Pairs',\n",
       "                                 Factor 1      Factor 2  Factor 3      Factor 4  \\\n",
       "              ACTR2^ADRB2    2.490832e-03  6.428487e-04  0.002196  1.671925e-04   \n",
       "              ACTR2^LDLR     2.100331e-26  4.661584e-07  0.025451  1.567741e-03   \n",
       "              ADAM10^CD44    4.810767e-03  1.350179e-01  0.016277  1.497984e-02   \n",
       "              ADAM10^IL6R    2.825515e-67  2.691576e-03  0.030326  3.217916e-03   \n",
       "              ADAM10^NOTCH1  5.933924e-05  4.928804e-04  0.000148  2.768249e-17   \n",
       "              ...                     ...           ...       ...           ...   \n",
       "              ZG16B^CXCR4    2.431990e-03  1.225010e-13  0.005036  4.478700e-03   \n",
       "              ZG16B^TLR2     1.277722e-33  6.775199e-30  0.003766  4.498861e-17   \n",
       "              ZG16B^TLR4     4.358188e-51  7.132349e-29  0.001300  1.282493e-35   \n",
       "              ZG16B^TLR5     1.647463e-56  6.529932e-31  0.000199  2.939722e-05   \n",
       "              ZG16B^TLR6     1.255533e-58  7.082341e-37  0.000177  2.775088e-05   \n",
       "              \n",
       "                                 Factor 5       Factor 6  \n",
       "              ACTR2^ADRB2    3.740612e-03   2.752642e-03  \n",
       "              ACTR2^LDLR     3.171395e-41   2.865910e-02  \n",
       "              ADAM10^CD44    6.986540e-03   2.323895e-03  \n",
       "              ADAM10^IL6R    7.316770e-46   3.543592e-03  \n",
       "              ADAM10^NOTCH1  1.298210e-04   1.035108e-18  \n",
       "              ...                     ...            ...  \n",
       "              ZG16B^CXCR4    2.077663e-07  1.846481e-222  \n",
       "              ZG16B^TLR2     3.160774e-14  2.068041e-220  \n",
       "              ZG16B^TLR4     1.120602e-03  2.360952e-224  \n",
       "              ZG16B^TLR5     6.761200e-76  6.656105e-223  \n",
       "              ZG16B^TLR6     2.497468e-75  7.872055e-223  \n",
       "              \n",
       "              [500 rows x 6 columns]),\n",
       "             ('Sender Cells',\n",
       "                      Factor 1      Factor 2  Factor 3  Factor 4  Factor 5  Factor 6\n",
       "              B       0.345714  4.244833e-08  0.394920  0.358603  0.359114  0.100501\n",
       "              NK      0.418428  2.312324e-02  0.007288  0.403664  0.398394  0.618979\n",
       "              Tc      0.392433  6.466428e-06  0.015440  0.373701  0.384265  0.553921\n",
       "              Th      0.366735  1.691219e-05  0.007696  0.364111  0.363849  0.526985\n",
       "              cDC     0.359335  5.878188e-01  0.559612  0.372990  0.368945  0.050041\n",
       "              cMono   0.372063  6.908228e-01  0.492113  0.376960  0.378186  0.140416\n",
       "              ncMono  0.386458  4.203549e-01  0.536979  0.393714  0.391316  0.001276),\n",
       "             ('Receiver Cells',\n",
       "                      Factor 1  Factor 2      Factor 3  Factor 4  Factor 5      Factor 6\n",
       "              B       0.000003  0.323564  2.066354e-05  0.605349  0.000490  5.268313e-02\n",
       "              NK      0.637557  0.424744  6.659316e-03  0.168907  0.003359  8.264612e-02\n",
       "              Tc      0.767515  0.365436  2.444992e-07  0.183486  0.000009  9.825093e-07\n",
       "              Th      0.065385  0.370794  3.198760e-04  0.646053  0.003115  3.837487e-04\n",
       "              cDC     0.011909  0.392347  6.345188e-01  0.372192  0.013842  6.572630e-01\n",
       "              cMono   0.004667  0.366212  6.768283e-01  0.113494  0.160106  6.779852e-01\n",
       "              ncMono  0.001718  0.394739  3.731554e-01  0.050638  0.986992  3.142218e-01)])"
      ]
     },
     "execution_count": 33,
     "metadata": {},
     "output_type": "execute_result"
    }
   ],
   "source": [
    "factors"
   ]
  },
  {
   "cell_type": "code",
   "execution_count": null,
   "id": "a886508d-6d14-43ed-b3bf-caa0d45e3929",
   "metadata": {},
   "outputs": [],
   "source": []
  },
  {
   "cell_type": "code",
   "execution_count": 54,
   "id": "f98737f7-853b-461b-87ce-2d6815b94562",
   "metadata": {},
   "outputs": [
    {
     "data": {
      "text/plain": [
       "(9726887, 14)"
      ]
     },
     "execution_count": 54,
     "metadata": {},
     "output_type": "execute_result"
    }
   ],
   "source": [
    "adata.uns['liana_res'].shape\n"
   ]
  },
  {
   "cell_type": "code",
   "execution_count": 57,
   "id": "d632ab42-7c6e-4f39-a1c8-dc26a410f859",
   "metadata": {},
   "outputs": [
    {
     "name": "stdout",
     "output_type": "stream",
     "text": [
      "(3390, 2)\n"
     ]
    }
   ],
   "source": [
    "# max(adata.uns['liana_res']['cellphone_pvals'])\n",
    "lr_pairs = adata.uns['liana_res'][['ligand_complex','receptor_complex']]\n",
    "lr_pairs = lr_pairs.drop_duplicates()\n",
    "print(lr_pairs.shape)\n"
   ]
  },
  {
   "cell_type": "code",
   "execution_count": 64,
   "id": "aa4ef6ac-b7ce-4752-80de-c45cfa142299",
   "metadata": {},
   "outputs": [],
   "source": [
    "# lr_pairs.to_csv('/home/jmitchel/data/lupus_data/tensor_c2c_LR_pairs.csv')"
   ]
  },
  {
   "cell_type": "code",
   "execution_count": 67,
   "id": "d473443f-b9d1-496f-8434-294d9c946f3b",
   "metadata": {},
   "outputs": [],
   "source": [
    "# adata.uns[\"liana_res\"].to_csv('/home/jmitchel/data/lupus_data/tensor_c2c_LR_tests.csv')"
   ]
  },
  {
   "cell_type": "code",
   "execution_count": null,
   "id": "f0293f13-cc03-424a-9fa7-f57bbad1f425",
   "metadata": {},
   "outputs": [],
   "source": []
  }
 ],
 "metadata": {
  "kernelspec": {
   "display_name": "Python 3 (ipykernel)",
   "language": "python",
   "name": "python3"
  },
  "language_info": {
   "codemirror_mode": {
    "name": "ipython",
    "version": 3
   },
   "file_extension": ".py",
   "mimetype": "text/x-python",
   "name": "python",
   "nbconvert_exporter": "python",
   "pygments_lexer": "ipython3",
   "version": "3.8.10"
  }
 },
 "nbformat": 4,
 "nbformat_minor": 5
}
