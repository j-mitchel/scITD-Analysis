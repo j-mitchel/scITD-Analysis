{
 "cells": [
  {
   "cell_type": "code",
   "execution_count": 1,
   "metadata": {},
   "outputs": [],
   "source": [
    "import scanpy as sc\n",
    "import pandas as pd\n",
    "import numpy as np"
   ]
  },
  {
   "cell_type": "code",
   "execution_count": null,
   "metadata": {},
   "outputs": [],
   "source": [
    "# raw data provided by original data generating authors (Perez et al.)\n",
    "# should be accessible through dbgap phs002812.v1.p1"
   ]
  },
  {
   "cell_type": "code",
   "execution_count": 49,
   "metadata": {},
   "outputs": [
    {
     "name": "stderr",
     "output_type": "stream",
     "text": [
      "Variable names are not unique. To make them unique, call `.var_names_make_unique`.\n"
     ]
    }
   ],
   "source": [
    "# Batch: YE_7-19\n",
    "# well: 1\n",
    "pbmc1 = sc.read_10x_h5('/home/jmitchel/data/lupus_data/SLE_droplets/YE_7-19/YE_7-19-1/raw_gene_bc_matrices_h5.h5')\n",
    "pbmc1.var_names_make_unique()\n",
    "pbmc1.write_h5ad(filename='/home/jmitchel/data/lupus_data/SLE_droplets/YE_7-19/YE_7-19-1/raw_gene_bc_matrices_h5.h5ad')"
   ]
  },
  {
   "cell_type": "code",
   "execution_count": 52,
   "metadata": {},
   "outputs": [
    {
     "name": "stderr",
     "output_type": "stream",
     "text": [
      "Variable names are not unique. To make them unique, call `.var_names_make_unique`.\n"
     ]
    }
   ],
   "source": [
    "# Batch: YE_7-19\n",
    "# well: 2\n",
    "pbmc1 = sc.read_10x_h5('/home/jmitchel/data/lupus_data/SLE_droplets/YE_7-19/YE_7-19-2/raw_gene_bc_matrices_h5.h5')\n",
    "pbmc1.var_names_make_unique()\n",
    "pbmc1.write_h5ad(filename='/home/jmitchel/data/lupus_data/SLE_droplets/YE_7-19/YE_7-19-2/raw_gene_bc_matrices_h5.h5ad')"
   ]
  },
  {
   "cell_type": "code",
   "execution_count": 53,
   "metadata": {},
   "outputs": [
    {
     "name": "stderr",
     "output_type": "stream",
     "text": [
      "Variable names are not unique. To make them unique, call `.var_names_make_unique`.\n"
     ]
    }
   ],
   "source": [
    "# Batch: YE_7-19\n",
    "# well: 3\n",
    "pbmc1 = sc.read_10x_h5('/home/jmitchel/data/lupus_data/SLE_droplets/YE_7-19/YE_7-19-3/raw_gene_bc_matrices_h5.h5')\n",
    "pbmc1.var_names_make_unique()\n",
    "pbmc1.write_h5ad(filename='/home/jmitchel/data/lupus_data/SLE_droplets/YE_7-19/YE_7-19-3/raw_gene_bc_matrices_h5.h5ad')"
   ]
  },
  {
   "cell_type": "code",
   "execution_count": 54,
   "metadata": {},
   "outputs": [
    {
     "name": "stderr",
     "output_type": "stream",
     "text": [
      "Variable names are not unique. To make them unique, call `.var_names_make_unique`.\n"
     ]
    }
   ],
   "source": [
    "# Batch: YE_7-19\n",
    "# well: 4\n",
    "pbmc1 = sc.read_10x_h5('/home/jmitchel/data/lupus_data/SLE_droplets/YE_7-19/YE_7-19-4/raw_gene_bc_matrices_h5.h5')\n",
    "pbmc1.var_names_make_unique()\n",
    "pbmc1.write_h5ad(filename='/home/jmitchel/data/lupus_data/SLE_droplets/YE_7-19/YE_7-19-4/raw_gene_bc_matrices_h5.h5ad')"
   ]
  },
  {
   "cell_type": "code",
   "execution_count": null,
   "metadata": {},
   "outputs": [],
   "source": []
  },
  {
   "cell_type": "code",
   "execution_count": 2,
   "metadata": {},
   "outputs": [
    {
     "name": "stderr",
     "output_type": "stream",
     "text": [
      "Variable names are not unique. To make them unique, call `.var_names_make_unique`.\n"
     ]
    }
   ],
   "source": [
    "# Batch: YE_8-16\n",
    "# well: 1\n",
    "pbmc1 = sc.read_10x_h5('/home/jmitchel/data/lupus_data/SLE_droplets/YE_8-16/YE_8-16-1/raw_gene_bc_matrices_h5.h5')\n",
    "pbmc1.var_names_make_unique()\n",
    "pbmc1.write_h5ad(filename='/home/jmitchel/data/lupus_data/SLE_droplets/YE_8-16/YE_8-16-1/raw_gene_bc_matrices_h5.h5ad')"
   ]
  },
  {
   "cell_type": "code",
   "execution_count": 3,
   "metadata": {},
   "outputs": [
    {
     "name": "stderr",
     "output_type": "stream",
     "text": [
      "Variable names are not unique. To make them unique, call `.var_names_make_unique`.\n"
     ]
    }
   ],
   "source": [
    "# Batch: YE_8-16\n",
    "# well: 2\n",
    "pbmc1 = sc.read_10x_h5('/home/jmitchel/data/lupus_data/SLE_droplets/YE_8-16/YE_8-16-2/raw_gene_bc_matrices_h5.h5')\n",
    "pbmc1.var_names_make_unique()\n",
    "pbmc1.write_h5ad(filename='/home/jmitchel/data/lupus_data/SLE_droplets/YE_8-16/YE_8-16-2/raw_gene_bc_matrices_h5.h5ad')"
   ]
  },
  {
   "cell_type": "code",
   "execution_count": 4,
   "metadata": {},
   "outputs": [
    {
     "name": "stderr",
     "output_type": "stream",
     "text": [
      "Variable names are not unique. To make them unique, call `.var_names_make_unique`.\n"
     ]
    }
   ],
   "source": [
    "# Batch: YE_8-16\n",
    "# well: 3\n",
    "pbmc1 = sc.read_10x_h5('/home/jmitchel/data/lupus_data/SLE_droplets/YE_8-16/YE_8-16-3/raw_gene_bc_matrices_h5.h5')\n",
    "pbmc1.var_names_make_unique()\n",
    "pbmc1.write_h5ad(filename='/home/jmitchel/data/lupus_data/SLE_droplets/YE_8-16/YE_8-16-3/raw_gene_bc_matrices_h5.h5ad')"
   ]
  },
  {
   "cell_type": "code",
   "execution_count": 5,
   "metadata": {},
   "outputs": [
    {
     "name": "stderr",
     "output_type": "stream",
     "text": [
      "Variable names are not unique. To make them unique, call `.var_names_make_unique`.\n"
     ]
    }
   ],
   "source": [
    "# Batch: YE_8-16\n",
    "# well: 4\n",
    "pbmc1 = sc.read_10x_h5('/home/jmitchel/data/lupus_data/SLE_droplets/YE_8-16/YE_8-16-4/raw_gene_bc_matrices_h5.h5')\n",
    "pbmc1.var_names_make_unique()\n",
    "pbmc1.write_h5ad(filename='/home/jmitchel/data/lupus_data/SLE_droplets/YE_8-16/YE_8-16-4/raw_gene_bc_matrices_h5.h5ad')"
   ]
  },
  {
   "cell_type": "code",
   "execution_count": null,
   "metadata": {},
   "outputs": [],
   "source": []
  },
  {
   "cell_type": "code",
   "execution_count": null,
   "metadata": {},
   "outputs": [],
   "source": []
  },
  {
   "cell_type": "code",
   "execution_count": null,
   "metadata": {},
   "outputs": [],
   "source": []
  },
  {
   "cell_type": "code",
   "execution_count": null,
   "metadata": {},
   "outputs": [],
   "source": []
  },
  {
   "cell_type": "code",
   "execution_count": null,
   "metadata": {},
   "outputs": [],
   "source": []
  },
  {
   "cell_type": "code",
   "execution_count": null,
   "metadata": {},
   "outputs": [],
   "source": []
  },
  {
   "cell_type": "code",
   "execution_count": null,
   "metadata": {},
   "outputs": [],
   "source": []
  },
  {
   "cell_type": "code",
   "execution_count": null,
   "metadata": {},
   "outputs": [],
   "source": []
  },
  {
   "cell_type": "code",
   "execution_count": null,
   "metadata": {},
   "outputs": [],
   "source": []
  },
  {
   "cell_type": "code",
   "execution_count": null,
   "metadata": {},
   "outputs": [],
   "source": []
  },
  {
   "cell_type": "code",
   "execution_count": null,
   "metadata": {},
   "outputs": [],
   "source": []
  },
  {
   "cell_type": "code",
   "execution_count": null,
   "metadata": {},
   "outputs": [],
   "source": []
  },
  {
   "cell_type": "code",
   "execution_count": 44,
   "metadata": {},
   "outputs": [],
   "source": []
  },
  {
   "cell_type": "code",
   "execution_count": 47,
   "metadata": {},
   "outputs": [],
   "source": []
  },
  {
   "cell_type": "code",
   "execution_count": 50,
   "metadata": {},
   "outputs": [],
   "source": []
  },
  {
   "cell_type": "code",
   "execution_count": 51,
   "metadata": {},
   "outputs": [],
   "source": []
  },
  {
   "cell_type": "code",
   "execution_count": null,
   "metadata": {},
   "outputs": [],
   "source": []
  }
 ],
 "metadata": {
  "kernelspec": {
   "display_name": "Python 3 (ipykernel)",
   "language": "python",
   "name": "python3"
  },
  "language_info": {
   "codemirror_mode": {
    "name": "ipython",
    "version": 3
   },
   "file_extension": ".py",
   "mimetype": "text/x-python",
   "name": "python",
   "nbconvert_exporter": "python",
   "pygments_lexer": "ipython3",
   "version": "3.8.10"
  }
 },
 "nbformat": 4,
 "nbformat_minor": 4
}
