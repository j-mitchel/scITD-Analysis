{
 "cells": [
  {
   "cell_type": "code",
   "execution_count": 6,
   "id": "aa4fbe2b",
   "metadata": {},
   "outputs": [],
   "source": [
    "import scanpy as sc\n",
    "import pandas as pd\n"
   ]
  },
  {
   "cell_type": "code",
   "execution_count": 3,
   "id": "35cd765b",
   "metadata": {},
   "outputs": [],
   "source": [
    "# Download the H5AD file here: https://www.ncbi.nlm.nih.gov/geo/query/acc.cgi?acc=GSE174188\n",
    "\n",
    "# load the data object\n",
    "adata = sc.read_h5ad('/home/jmitchel/data/temp_test_data/GSE174188_CLUES1_adjusted.h5ad')\n"
   ]
  },
  {
   "cell_type": "code",
   "execution_count": 7,
   "id": "d6d70564",
   "metadata": {},
   "outputs": [],
   "source": [
    "for col in adata.obs.columns:\n",
    "    if pd.api.types.is_categorical_dtype(adata.obs[col]):\n",
    "        adata.obs[col]=adata.obs[col].cat.add_categories(\"selfdefinedNA\").fillna('selfdefinedNA')"
   ]
  },
  {
   "cell_type": "code",
   "execution_count": 8,
   "id": "0e4482f1",
   "metadata": {},
   "outputs": [],
   "source": [
    "adata.write_h5ad(\n",
    "    filename='/home/jmitchel/data/temp_test_data/GSE174188_CLUES1_adjusted2.h5ad',\n",
    "    compression=\"gzip\"\n",
    ")"
   ]
  },
  {
   "cell_type": "code",
   "execution_count": null,
   "id": "7fe9be96",
   "metadata": {},
   "outputs": [],
   "source": []
  }
 ],
 "metadata": {
  "kernelspec": {
   "display_name": "Python 3 (ipykernel)",
   "language": "python",
   "name": "python3"
  },
  "language_info": {
   "codemirror_mode": {
    "name": "ipython",
    "version": 3
   },
   "file_extension": ".py",
   "mimetype": "text/x-python",
   "name": "python",
   "nbconvert_exporter": "python",
   "pygments_lexer": "ipython3",
   "version": "3.8.10"
  }
 },
 "nbformat": 4,
 "nbformat_minor": 5
}
