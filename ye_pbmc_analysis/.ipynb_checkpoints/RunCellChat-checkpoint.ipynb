{
 "cells": [
  {
   "cell_type": "code",
   "execution_count": 1,
   "metadata": {},
   "outputs": [
    {
     "name": "stderr",
     "output_type": "stream",
     "text": [
      "Attaching SeuratObject\n",
      "\n",
      "Loading required package: dplyr\n",
      "\n",
      "\n",
      "Attaching package: ‘dplyr’\n",
      "\n",
      "\n",
      "The following objects are masked from ‘package:stats’:\n",
      "\n",
      "    filter, lag\n",
      "\n",
      "\n",
      "The following objects are masked from ‘package:base’:\n",
      "\n",
      "    intersect, setdiff, setequal, union\n",
      "\n",
      "\n",
      "Loading required package: igraph\n",
      "\n",
      "\n",
      "Attaching package: ‘igraph’\n",
      "\n",
      "\n",
      "The following objects are masked from ‘package:dplyr’:\n",
      "\n",
      "    as_data_frame, groups, union\n",
      "\n",
      "\n",
      "The following objects are masked from ‘package:stats’:\n",
      "\n",
      "    decompose, spectrum\n",
      "\n",
      "\n",
      "The following object is masked from ‘package:base’:\n",
      "\n",
      "    union\n",
      "\n",
      "\n",
      "Loading required package: ggplot2\n",
      "\n"
     ]
    }
   ],
   "source": [
    "library(Seurat)\n",
    "library(CellChat)\n",
    "library(patchwork)\n",
    "options(stringsAsFactors = FALSE)"
   ]
  },
  {
   "cell_type": "code",
   "execution_count": 2,
   "metadata": {},
   "outputs": [],
   "source": [
    "pbmc <- readRDS('/home/jmitchel/data/lupus_data/lupus_subsetted_seurat_v3.rds')\n",
    "\n",
    "# converting shorthand cell type names to full names\n",
    "new_names <- sapply(as.character(pbmc@meta.data$cg_cov), function(x){\n",
    "  if (x=='cM') {\n",
    "    return('cMono')\n",
    "  } else if (x=='ncM') {\n",
    "    return('ncMono')\n",
    "  } else if (x=='T4') {\n",
    "    return('Th')\n",
    "  } else if (x=='T8') {\n",
    "    return('Tc')\n",
    "  } else {\n",
    "    return(x)\n",
    "  }\n",
    "})\n",
    "names(new_names) <- NULL\n",
    "pbmc@meta.data$cg_cov <- factor(new_names,levels=unique(new_names))\n",
    "\n",
    "\n",
    "# subset data to SLE patients only\n",
    "cells_keep <- rownames(pbmc@meta.data)[pbmc@meta.data$Status=='Managed']\n",
    "pbmc <- subset(pbmc,cells = cells_keep)\n",
    "\n",
    "# reduce to cells of the cell types that I'm using\n",
    "cells_keep <- rownames(pbmc@meta.data)[pbmc@meta.data$cg_cov %in% c(\"B\",\"NK\",\"Th\",\"Tc\",\"cDC\",\"cMono\",\"ncMono\")]\n",
    "\n",
    "# # cells_keep <- sample(cells_keep,50000) # used in v1\n",
    "# cells_keep <- sample(cells_keep,10000)\n",
    "# pbmc <- subset(pbmc,cells = cells_keep)"
   ]
  },
  {
   "cell_type": "code",
   "execution_count": 3,
   "metadata": {},
   "outputs": [],
   "source": [
    "cells_keep <- sample(cells_keep,50000)\n",
    "pbmc <- subset(pbmc,cells = cells_keep)"
   ]
  },
  {
   "cell_type": "code",
   "execution_count": 4,
   "metadata": {},
   "outputs": [],
   "source": [
    "pbmc@meta.data$cg_cov <- factor(pbmc@meta.data$cg_cov,levels=c(\"B\",\"NK\",\"Th\",\"Tc\",\"cDC\",\"cMono\",\"ncMono\"))\n",
    "pbmc@meta.data$idents <- pbmc@meta.data$cg_cov\n",
    "Idents(pbmc) <- pbmc@meta.data$idents"
   ]
  },
  {
   "cell_type": "code",
   "execution_count": 5,
   "metadata": {},
   "outputs": [
    {
     "name": "stderr",
     "output_type": "stream",
     "text": [
      "Create a CellChat object from a Seurat object\n",
      "\n"
     ]
    },
    {
     "name": "stdout",
     "output_type": "stream",
     "text": [
      "The `data` slot in the default assay is used. The default assay is RNA \n",
      "The `meta.data` slot in the Seurat object is used as cell meta information \n"
     ]
    },
    {
     "name": "stderr",
     "output_type": "stream",
     "text": [
      "Set cell identities for the new CellChat object\n",
      "\n"
     ]
    },
    {
     "name": "stdout",
     "output_type": "stream",
     "text": [
      "The cell groups used for CellChat analysis are  B NK Th Tc cDC cMono ncMono \n"
     ]
    }
   ],
   "source": [
    "cellchat <- createCellChat(object = pbmc, group.by = \"cg_cov\")\n",
    "CellChatDB <- CellChatDB.human\n",
    "cellchat@DB <- CellChatDB\n",
    "cellchat <- subsetData(cellchat)\n",
    "cellchat <- identifyOverExpressedGenes(cellchat,thresh.p=.05) # can modify thresh.p\n",
    "cellchat <- identifyOverExpressedInteractions(cellchat)\n",
    "cellchat <- projectData(cellchat, PPI.human) # can modify smoothing parameter alpha\n"
   ]
  },
  {
   "cell_type": "code",
   "execution_count": 14,
   "metadata": {},
   "outputs": [],
   "source": [
    "# cellchat <- computeCommunProb(cellchat,raw.use = TRUE,type='truncatedMean',trim=.1)\n",
    "# cellchat <- computeCommunProb(cellchat,raw.use = TRUE,population.size = TRUE)\n",
    "# cellchat <- computeCommunProb(cellchat,raw.use = TRUE,do.fast=FALSE)\n",
    "# cellchat <- computeCommunProb(cellchat,raw.use = TRUE,population.size = TRUE,do.fast=FALSE)\n",
    "# cellchat <- computeCommunProb(cellchat,raw.use = TRUE,type='truncatedMean',trim=.05,population.size = TRUE,do.fast=FALSE)\n",
    "# cellchat <- computeCommunProb(cellchat,raw.use = TRUE,type='truncatedMean',trim=.20)\n",
    "# cellchat <- computeCommunProb(cellchat,raw.use = TRUE)\n",
    "cellchat <- computeCommunProb(cellchat)\n"
   ]
  },
  {
   "cell_type": "code",
   "execution_count": 15,
   "metadata": {},
   "outputs": [],
   "source": [
    "cellchat <- filterCommunication(cellchat)"
   ]
  },
  {
   "cell_type": "code",
   "execution_count": 16,
   "metadata": {},
   "outputs": [],
   "source": [
    "df.net <- subsetCommunication(cellchat)\n"
   ]
  },
  {
   "cell_type": "code",
   "execution_count": 17,
   "metadata": {},
   "outputs": [
    {
     "name": "stdout",
     "output_type": "stream",
     "text": [
      "[1] 377  11\n",
      "  source target ligand   receptor       prob pval interaction_name\n",
      "1     NK      B    MIF CD74_CXCR4 0.03425983    0   MIF_CD74_CXCR4\n",
      "2     Th      B    MIF CD74_CXCR4 0.05336058    0   MIF_CD74_CXCR4\n",
      "3     Tc      B    MIF CD74_CXCR4 0.02968427    0   MIF_CD74_CXCR4\n",
      "4    cDC      B    MIF CD74_CXCR4 0.07347944    0   MIF_CD74_CXCR4\n",
      "5 ncMono      B    MIF CD74_CXCR4 0.02247215    0   MIF_CD74_CXCR4\n",
      "6     Th     NK    MIF CD74_CXCR4 0.01483929    0   MIF_CD74_CXCR4\n",
      "  interaction_name_2 pathway_name         annotation\n",
      "1 MIF - (CD74+CXCR4)          MIF Secreted Signaling\n",
      "2 MIF - (CD74+CXCR4)          MIF Secreted Signaling\n",
      "3 MIF - (CD74+CXCR4)          MIF Secreted Signaling\n",
      "4 MIF - (CD74+CXCR4)          MIF Secreted Signaling\n",
      "5 MIF - (CD74+CXCR4)          MIF Secreted Signaling\n",
      "6 MIF - (CD74+CXCR4)          MIF Secreted Signaling\n",
      "                        evidence\n",
      "1 PMID: 29637711; PMID: 24760155\n",
      "2 PMID: 29637711; PMID: 24760155\n",
      "3 PMID: 29637711; PMID: 24760155\n",
      "4 PMID: 29637711; PMID: 24760155\n",
      "5 PMID: 29637711; PMID: 24760155\n",
      "6 PMID: 29637711; PMID: 24760155\n"
     ]
    }
   ],
   "source": [
    "print(dim(df.net))\n",
    "print(head(df.net))"
   ]
  },
  {
   "cell_type": "code",
   "execution_count": 18,
   "metadata": {},
   "outputs": [
    {
     "name": "stdout",
     "output_type": "stream",
     "text": [
      " [1] \"MIF\"      \"IL16\"     \"RETN\"     \"ANXA1\"    \"LGALS9\"   \"CD22\"    \n",
      " [7] \"FCER2\"    \"PTPRC\"    \"CD99\"     \"CLEC2B\"   \"CD69\"     \"ICAM2\"   \n",
      "[13] \"ITGB2\"    \"LCK\"      \"HLA-A\"    \"HLA-B\"    \"HLA-C\"    \"HLA-E\"   \n",
      "[19] \"HLA-F\"    \"HLA-DPA1\" \"HLA-DPB1\" \"HLA-DQA1\" \"HLA-DMA\"  \"HLA-DMB\" \n",
      "[25] \"HLA-DQA2\" \"HLA-DQB1\" \"HLA-DRA\"  \"HLA-DRB1\" \"HLA-DRB5\" \"SELPLG\"  \n"
     ]
    }
   ],
   "source": [
    "print(unique(df.net$ligand))"
   ]
  },
  {
   "cell_type": "code",
   "execution_count": null,
   "metadata": {},
   "outputs": [],
   "source": [
    "# saveRDS(df.net,file='/home/jmitchel/data/lupus_data/LR_cell_chat_res_all_together.rds')\n"
   ]
  },
  {
   "cell_type": "code",
   "execution_count": 22,
   "metadata": {},
   "outputs": [],
   "source": [
    "df.net <- readRDS(file='/home/jmitchel/data/lupus_data/LR_cell_chat_res_all_together.rds')"
   ]
  },
  {
   "cell_type": "code",
   "execution_count": 23,
   "metadata": {},
   "outputs": [],
   "source": [
    "# parsing results to get out the channels\n",
    "df.net <- df.net[,c(1,2,3)]\n",
    "df.net <- unique(df.net)\n"
   ]
  },
  {
   "cell_type": "code",
   "execution_count": 24,
   "metadata": {},
   "outputs": [
    {
     "name": "stdout",
     "output_type": "stream",
     "text": [
      "[1] 160\n"
     ]
    }
   ],
   "source": [
    "cc_channels <- sapply(1:nrow(df.net),function(i){\n",
    "  source <- df.net[i,1]\n",
    "  target <- df.net[i,2]\n",
    "  ligand <- df.net[i,3]\n",
    "  if (source != target) {\n",
    "    return(paste0(ligand, \"_\",\n",
    "                  source, \"_\",\n",
    "                  target))\n",
    "  } else {\n",
    "    return(NA)\n",
    "  }\n",
    "  \n",
    "})\n",
    "cc_channels <- cc_channels[!is.na(cc_channels)]\n",
    "print(length(cc_channels))"
   ]
  },
  {
   "cell_type": "code",
   "execution_count": 25,
   "metadata": {},
   "outputs": [],
   "source": [
    "# saveRDS(cc_channels,file='/home/jmitchel/data/lupus_data/LR_cchat_res_parsed_05.rds')\n",
    "# saveRDS(cc_channels,file='/home/jmitchel/data/lupus_data/LR_cchat_res_parsed_10.rds')\n",
    "# saveRDS(cc_channels,file='/home/jmitchel/data/lupus_data/LR_cchat_res_parsed_15.rds')\n",
    "# saveRDS(cc_channels,file='/home/jmitchel/data/lupus_data/LR_cchat_res_parsed_20.rds')\n",
    "# saveRDS(cc_channels,file='/home/jmitchel/data/lupus_data/LR_cchat_res_orig.rds')\n"
   ]
  },
  {
   "cell_type": "code",
   "execution_count": null,
   "metadata": {},
   "outputs": [],
   "source": []
  },
  {
   "cell_type": "code",
   "execution_count": null,
   "metadata": {},
   "outputs": [],
   "source": []
  },
  {
   "cell_type": "code",
   "execution_count": null,
   "metadata": {},
   "outputs": [],
   "source": []
  },
  {
   "cell_type": "code",
   "execution_count": null,
   "metadata": {},
   "outputs": [],
   "source": []
  },
  {
   "cell_type": "code",
   "execution_count": null,
   "metadata": {},
   "outputs": [],
   "source": []
  }
 ],
 "metadata": {
  "kernelspec": {
   "display_name": "R",
   "language": "R",
   "name": "ir"
  },
  "language_info": {
   "codemirror_mode": "r",
   "file_extension": ".r",
   "mimetype": "text/x-r-source",
   "name": "R",
   "pygments_lexer": "r",
   "version": "4.1.1"
  }
 },
 "nbformat": 4,
 "nbformat_minor": 4
}
