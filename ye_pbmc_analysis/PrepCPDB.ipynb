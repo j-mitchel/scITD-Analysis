{
 "cells": [
  {
   "cell_type": "code",
   "execution_count": 1,
   "metadata": {},
   "outputs": [
    {
     "name": "stderr",
     "output_type": "stream",
     "text": [
      "Attaching SeuratObject\n",
      "\n",
      "Loading required package: dplyr\n",
      "\n",
      "\n",
      "Attaching package: ‘dplyr’\n",
      "\n",
      "\n",
      "The following objects are masked from ‘package:stats’:\n",
      "\n",
      "    filter, lag\n",
      "\n",
      "\n",
      "The following objects are masked from ‘package:base’:\n",
      "\n",
      "    intersect, setdiff, setequal, union\n",
      "\n",
      "\n",
      "Loading required package: igraph\n",
      "\n",
      "\n",
      "Attaching package: ‘igraph’\n",
      "\n",
      "\n",
      "The following objects are masked from ‘package:dplyr’:\n",
      "\n",
      "    as_data_frame, groups, union\n",
      "\n",
      "\n",
      "The following objects are masked from ‘package:stats’:\n",
      "\n",
      "    decompose, spectrum\n",
      "\n",
      "\n",
      "The following object is masked from ‘package:base’:\n",
      "\n",
      "    union\n",
      "\n",
      "\n",
      "Loading required package: ggplot2\n",
      "\n"
     ]
    }
   ],
   "source": [
    "##### generating data to use with cellphonedb\n",
    "library(Seurat)\n",
    "library(CellChat)\n",
    "library(patchwork)\n",
    "options(stringsAsFactors = FALSE)"
   ]
  },
  {
   "cell_type": "code",
   "execution_count": 2,
   "metadata": {},
   "outputs": [],
   "source": [
    "pbmc <- readRDS('/home/jmitchel/data/lupus_data/lupus_subsetted_seurat_v3.rds')\n",
    "\n",
    "# converting shorthand cell type names to full names\n",
    "new_names <- sapply(as.character(pbmc@meta.data$cg_cov), function(x){\n",
    "  if (x=='cM') {\n",
    "    return('cMono')\n",
    "  } else if (x=='ncM') {\n",
    "    return('ncMono')\n",
    "  } else if (x=='T4') {\n",
    "    return('Th')\n",
    "  } else if (x=='T8') {\n",
    "    return('Tc')\n",
    "  } else {\n",
    "    return(x)\n",
    "  }\n",
    "})\n",
    "names(new_names) <- NULL\n",
    "pbmc@meta.data$cg_cov <- factor(new_names,levels=unique(new_names))\n",
    "\n",
    "\n",
    "# subset data to SLE patients only\n",
    "cells_keep <- rownames(pbmc@meta.data)[pbmc@meta.data$Status=='Managed']\n",
    "pbmc <- subset(pbmc,cells = cells_keep)\n",
    "\n",
    "# reduce to cells of the cell types that I'm using\n",
    "cells_keep <- rownames(pbmc@meta.data)[pbmc@meta.data$cg_cov %in% c(\"B\",\"NK\",\"Th\",\"Tc\",\"cDC\",\"cMono\",\"ncMono\")]"
   ]
  },
  {
   "cell_type": "code",
   "execution_count": 3,
   "metadata": {},
   "outputs": [
    {
     "name": "stdout",
     "output_type": "stream",
     "text": [
      "[1] 32738 50000\n"
     ]
    }
   ],
   "source": [
    "cells_keep <- sample(cells_keep,50000)\n",
    "pbmc <- subset(pbmc,cells = cells_keep)\n",
    "print(dim(pbmc))"
   ]
  },
  {
   "cell_type": "code",
   "execution_count": 4,
   "metadata": {},
   "outputs": [],
   "source": [
    "pbmc@meta.data$cg_cov <- factor(pbmc@meta.data$cg_cov,levels=c(\"B\",\"NK\",\"Th\",\"Tc\",\"cDC\",\"cMono\",\"ncMono\"))\n",
    "pbmc@meta.data$idents <- pbmc@meta.data$cg_cov\n",
    "Idents(pbmc) <- pbmc@meta.data$idents\n",
    "pbmc@meta.data$cell_type <- pbmc@meta.data$cg_cov"
   ]
  },
  {
   "cell_type": "code",
   "execution_count": 5,
   "metadata": {},
   "outputs": [],
   "source": [
    "write.csv(as.matrix(pbmc@assays$RNA@data), file = '/home/jmitchel/data/LR_datasets/cellphone/lupus_subsetted_cpdb_counts.csv')\n",
    "write.csv(pbmc@meta.data, file = '/home/jmitchel/data/LR_datasets/cellphone/lupus_subsetted_cpdb_meta.csv')"
   ]
  },
  {
   "cell_type": "code",
   "execution_count": 11,
   "metadata": {},
   "outputs": [],
   "source": [
    "# # run in terminal\n",
    "# !conda activate sandbox\n",
    "# !cd /home/jmitchel/data/LR_datasets/cellphone/\n",
    "# !cellphonedb method statistical_analysis lupus_subsetted_cpdb_meta.csv --counts-data hgnc_symbol lupus_subsetted_cpdb_counts.csv --pvalue .05 --threads 10\n"
   ]
  },
  {
   "cell_type": "code",
   "execution_count": null,
   "metadata": {},
   "outputs": [],
   "source": []
  },
  {
   "cell_type": "code",
   "execution_count": null,
   "metadata": {},
   "outputs": [],
   "source": []
  },
  {
   "cell_type": "code",
   "execution_count": null,
   "metadata": {},
   "outputs": [],
   "source": []
  }
 ],
 "metadata": {
  "kernelspec": {
   "display_name": "R",
   "language": "R",
   "name": "ir"
  },
  "language_info": {
   "codemirror_mode": "r",
   "file_extension": ".r",
   "mimetype": "text/x-r-source",
   "name": "R",
   "pygments_lexer": "r",
   "version": "4.1.1"
  }
 },
 "nbformat": 4,
 "nbformat_minor": 4
}
