{
 "cells": [
  {
   "cell_type": "code",
   "execution_count": 4,
   "metadata": {},
   "outputs": [
    {
     "name": "stderr",
     "output_type": "stream",
     "text": [
      "Attaching SeuratObject\n",
      "\n"
     ]
    }
   ],
   "source": [
    "library(Seurat)\n",
    "library(SingleCellSignalR)\n"
   ]
  },
  {
   "cell_type": "code",
   "execution_count": 8,
   "metadata": {},
   "outputs": [],
   "source": [
    "# if (!requireNamespace(\"BiocManager\", quietly = TRUE))\n",
    "#     install.packages(\"BiocManager\")\n",
    "\n",
    "# BiocManager::install(\"SingleCellSignalR\")"
   ]
  },
  {
   "cell_type": "code",
   "execution_count": 5,
   "metadata": {},
   "outputs": [],
   "source": [
    "pbmc <- readRDS('/home/jmitchel/data/lupus_data/lupus_subsetted_seurat_v3.rds')\n",
    "\n",
    "# converting shorthand cell type names to full names\n",
    "new_names <- sapply(as.character(pbmc@meta.data$cg_cov), function(x){\n",
    "  if (x=='cM') {\n",
    "    return('cMono')\n",
    "  } else if (x=='ncM') {\n",
    "    return('ncMono')\n",
    "  } else if (x=='T4') {\n",
    "    return('Th')\n",
    "  } else if (x=='T8') {\n",
    "    return('Tc')\n",
    "  } else {\n",
    "    return(x)\n",
    "  }\n",
    "})\n",
    "names(new_names) <- NULL\n",
    "pbmc@meta.data$cg_cov <- factor(new_names,levels=unique(new_names))\n",
    "\n",
    "\n",
    "# subset data to SLE patients only\n",
    "cells_keep <- rownames(pbmc@meta.data)[pbmc@meta.data$Status=='Managed']\n",
    "pbmc <- subset(pbmc,cells = cells_keep)\n",
    "\n",
    "# reduce to cells of the cell types that I'm using\n",
    "cells_keep <- rownames(pbmc@meta.data)[pbmc@meta.data$cg_cov %in% c(\"B\",\"NK\",\"Th\",\"Tc\",\"cDC\",\"cMono\",\"ncMono\")]"
   ]
  },
  {
   "cell_type": "code",
   "execution_count": 6,
   "metadata": {},
   "outputs": [
    {
     "name": "stdout",
     "output_type": "stream",
     "text": [
      "[1] 32738 50000\n"
     ]
    }
   ],
   "source": [
    "cells_keep <- sample(cells_keep,50000)\n",
    "pbmc <- subset(pbmc,cells = cells_keep)\n",
    "print(dim(pbmc))"
   ]
  },
  {
   "cell_type": "code",
   "execution_count": 7,
   "metadata": {},
   "outputs": [],
   "source": [
    "pbmc@meta.data$cg_cov <- factor(pbmc@meta.data$cg_cov,levels=c(\"B\",\"NK\",\"Th\",\"Tc\",\"cDC\",\"cMono\",\"ncMono\"))\n",
    "pbmc@meta.data$idents <- pbmc@meta.data$cg_cov\n",
    "Idents(pbmc) <- pbmc@meta.data$idents\n",
    "pbmc@meta.data$cell_type <- pbmc@meta.data$cg_cov"
   ]
  },
  {
   "cell_type": "code",
   "execution_count": 8,
   "metadata": {},
   "outputs": [],
   "source": [
    "# make cluster numbers \n",
    "clust_num <- sapply(as.character(pbmc@meta.data$cg_cov), function(x){\n",
    "  if (x=='cMono') {\n",
    "    return(1)\n",
    "  } else if (x=='ncMono') {\n",
    "    return(2)\n",
    "  } else if (x=='Th') {\n",
    "    return(3)\n",
    "  } else if (x=='Tc') {\n",
    "    return(4)\n",
    "  } else if (x=='B') {\n",
    "    return(5)\n",
    "  } else if (x=='NK') {\n",
    "    return(6)\n",
    "  } else if (x=='cDC') {\n",
    "    return(7)\n",
    "  }\n",
    "})"
   ]
  },
  {
   "cell_type": "code",
   "execution_count": 9,
   "metadata": {},
   "outputs": [],
   "source": [
    "names(clust_num) <- NULL"
   ]
  },
  {
   "cell_type": "code",
   "execution_count": 17,
   "metadata": {},
   "outputs": [],
   "source": [
    "# clust_num[1] <- 0"
   ]
  },
  {
   "cell_type": "code",
   "execution_count": 10,
   "metadata": {},
   "outputs": [
    {
     "name": "stdout",
     "output_type": "stream",
     "text": [
      "[1] 50000\n",
      "[1] 50000\n"
     ]
    }
   ],
   "source": [
    "print(length(clust_num))\n",
    "print(length(pbmc@meta.data$cg_cov))"
   ]
  },
  {
   "cell_type": "code",
   "execution_count": null,
   "metadata": {},
   "outputs": [],
   "source": [
    "data <- pbmc@assays$RNA@data\n",
    "clust.ana <- cluster_analysis(data = data, genes = rownames(data), cluster = clust_num, c.names = c('cMono','ncMono','Th','Tc','B','NK','cDC'), write = FALSE)\n"
   ]
  },
  {
   "cell_type": "code",
   "execution_count": null,
   "metadata": {},
   "outputs": [],
   "source": []
  },
  {
   "cell_type": "code",
   "execution_count": null,
   "metadata": {},
   "outputs": [],
   "source": []
  }
 ],
 "metadata": {
  "kernelspec": {
   "display_name": "R",
   "language": "R",
   "name": "ir"
  },
  "language_info": {
   "codemirror_mode": "r",
   "file_extension": ".r",
   "mimetype": "text/x-r-source",
   "name": "R",
   "pygments_lexer": "r",
   "version": "4.1.1"
  }
 },
 "nbformat": 4,
 "nbformat_minor": 4
}
