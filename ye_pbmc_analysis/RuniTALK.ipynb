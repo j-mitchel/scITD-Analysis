{
 "cells": [
  {
   "cell_type": "code",
   "execution_count": 3,
   "metadata": {},
   "outputs": [
    {
     "name": "stderr",
     "output_type": "stream",
     "text": [
      "Attaching SeuratObject\n",
      "\n",
      "Registered S3 method overwritten by 'gamlss':\n",
      "  method   from\n",
      "  print.ri bit \n",
      "\n",
      "Warning message:\n",
      "“replacing previous import ‘Biobase::combine’ by ‘dplyr::combine’ when loading ‘iTALK’”\n",
      "Warning message:\n",
      "“replacing previous import ‘dplyr::union’ by ‘igraph::union’ when loading ‘iTALK’”\n",
      "Warning message:\n",
      "“replacing previous import ‘dplyr::as_data_frame’ by ‘igraph::as_data_frame’ when loading ‘iTALK’”\n",
      "Warning message:\n",
      "“replacing previous import ‘circlize::degree’ by ‘igraph::degree’ when loading ‘iTALK’”\n",
      "Warning message:\n",
      "“replacing previous import ‘dplyr::groups’ by ‘igraph::groups’ when loading ‘iTALK’”\n",
      "Warning message:\n",
      "“replacing previous import ‘igraph::%s%’ by ‘network::%s%’ when loading ‘iTALK’”\n",
      "Warning message:\n",
      "“replacing previous import ‘igraph::add.edges’ by ‘network::add.edges’ when loading ‘iTALK’”\n",
      "Warning message:\n",
      "“replacing previous import ‘igraph::get.edge.attribute’ by ‘network::get.edge.attribute’ when loading ‘iTALK’”\n",
      "Warning message:\n",
      "“replacing previous import ‘igraph::add.vertices’ by ‘network::add.vertices’ when loading ‘iTALK’”\n",
      "Warning message:\n",
      "“replacing previous import ‘igraph::%c%’ by ‘network::%c%’ when loading ‘iTALK’”\n",
      "Warning message:\n",
      "“replacing previous import ‘igraph::list.vertex.attributes’ by ‘network::list.vertex.attributes’ when loading ‘iTALK’”\n",
      "Warning message:\n",
      "“replacing previous import ‘igraph::set.edge.attribute’ by ‘network::set.edge.attribute’ when loading ‘iTALK’”\n",
      "Warning message:\n",
      "“replacing previous import ‘igraph::is.directed’ by ‘network::is.directed’ when loading ‘iTALK’”\n",
      "Warning message:\n",
      "“replacing previous import ‘igraph::set.vertex.attribute’ by ‘network::set.vertex.attribute’ when loading ‘iTALK’”\n",
      "Warning message:\n",
      "“replacing previous import ‘igraph::get.vertex.attribute’ by ‘network::get.vertex.attribute’ when loading ‘iTALK’”\n",
      "Warning message:\n",
      "“replacing previous import ‘igraph::delete.edges’ by ‘network::delete.edges’ when loading ‘iTALK’”\n",
      "Warning message:\n",
      "“replacing previous import ‘igraph::is.bipartite’ by ‘network::is.bipartite’ when loading ‘iTALK’”\n",
      "Warning message:\n",
      "“replacing previous import ‘igraph::get.edges’ by ‘network::get.edges’ when loading ‘iTALK’”\n",
      "Warning message:\n",
      "“replacing previous import ‘igraph::list.edge.attributes’ by ‘network::list.edge.attributes’ when loading ‘iTALK’”\n",
      "Warning message:\n",
      "“replacing previous import ‘igraph::delete.vertices’ by ‘network::delete.vertices’ when loading ‘iTALK’”\n",
      "Warning message:\n",
      "“replacing previous import ‘igraph::crossing’ by ‘tidyr::crossing’ when loading ‘iTALK’”\n"
     ]
    }
   ],
   "source": [
    "library(Seurat)\n",
    "library(iTALK)"
   ]
  },
  {
   "cell_type": "code",
   "execution_count": 4,
   "metadata": {},
   "outputs": [],
   "source": [
    "pbmc <- readRDS('/home/jmitchel/data/lupus_data/lupus_subsetted_seurat_v3.rds')\n",
    "\n",
    "# converting shorthand cell type names to full names\n",
    "new_names <- sapply(as.character(pbmc@meta.data$cg_cov), function(x){\n",
    "  if (x=='cM') {\n",
    "    return('cMono')\n",
    "  } else if (x=='ncM') {\n",
    "    return('ncMono')\n",
    "  } else if (x=='T4') {\n",
    "    return('Th')\n",
    "  } else if (x=='T8') {\n",
    "    return('Tc')\n",
    "  } else {\n",
    "    return(x)\n",
    "  }\n",
    "})\n",
    "names(new_names) <- NULL\n",
    "pbmc@meta.data$cg_cov <- factor(new_names,levels=unique(new_names))\n",
    "\n",
    "\n",
    "# subset data to SLE patients only\n",
    "cells_keep <- rownames(pbmc@meta.data)[pbmc@meta.data$Status=='Managed']\n",
    "pbmc <- subset(pbmc,cells = cells_keep)\n",
    "\n",
    "# reduce to cells of the cell types that I'm using\n",
    "cells_keep <- rownames(pbmc@meta.data)[pbmc@meta.data$cg_cov %in% c(\"B\",\"NK\",\"Th\",\"Tc\",\"cDC\",\"cMono\",\"ncMono\")]\n",
    "pbmc@meta.data$cg_cov <- factor(pbmc@meta.data$cg_cov,levels=c(\"B\",\"NK\",\"Th\",\"Tc\",\"cDC\",\"cMono\",\"ncMono\"))\n",
    "pbmc@meta.data$idents <- pbmc@meta.data$cg_cov\n",
    "Idents(pbmc) <- pbmc@meta.data$idents\n"
   ]
  },
  {
   "cell_type": "code",
   "execution_count": 12,
   "metadata": {},
   "outputs": [
    {
     "data": {
      "text/html": [
       "<style>\n",
       ".list-inline {list-style: none; margin:0; padding: 0}\n",
       ".list-inline>li {display: inline-block}\n",
       ".list-inline>li:not(:last-child)::after {content: \"\\00b7\"; padding: 0 .5ex}\n",
       "</style>\n",
       "<ol class=list-inline><li>32738</li><li>50000</li></ol>\n"
      ],
      "text/latex": [
       "\\begin{enumerate*}\n",
       "\\item 32738\n",
       "\\item 50000\n",
       "\\end{enumerate*}\n"
      ],
      "text/markdown": [
       "1. 32738\n",
       "2. 50000\n",
       "\n",
       "\n"
      ],
      "text/plain": [
       "[1] 32738 50000"
      ]
     },
     "metadata": {},
     "output_type": "display_data"
    }
   ],
   "source": [
    "# cells_keep <- sample(cells_keep,50000)\n",
    "# pbmc <- subset(pbmc,cells = cells_keep)\n",
    "dim(pbmc)"
   ]
  },
  {
   "cell_type": "code",
   "execution_count": 17,
   "metadata": {},
   "outputs": [],
   "source": [
    "data <- t(as.matrix(pbmc@assays$RNA@counts))\n",
    "data <- cbind.data.frame(data,pbmc@meta.data[,'cg_cov',drop=FALSE])\n"
   ]
  },
  {
   "cell_type": "code",
   "execution_count": 21,
   "metadata": {},
   "outputs": [
    {
     "data": {
      "text/html": [
       "<style>\n",
       ".list-inline {list-style: none; margin:0; padding: 0}\n",
       ".list-inline>li {display: inline-block}\n",
       ".list-inline>li:not(:last-child)::after {content: \"\\00b7\"; padding: 0 .5ex}\n",
       "</style>\n",
       "<ol class=list-inline><li>50000</li><li>32739</li></ol>\n"
      ],
      "text/latex": [
       "\\begin{enumerate*}\n",
       "\\item 50000\n",
       "\\item 32739\n",
       "\\end{enumerate*}\n"
      ],
      "text/markdown": [
       "1. 50000\n",
       "2. 32739\n",
       "\n",
       "\n"
      ],
      "text/plain": [
       "[1] 50000 32739"
      ]
     },
     "metadata": {},
     "output_type": "display_data"
    }
   ],
   "source": [
    "dim(data)\n",
    "colnames(data)[32739] <- 'cell_type'"
   ]
  },
  {
   "cell_type": "code",
   "execution_count": 22,
   "metadata": {},
   "outputs": [
    {
     "name": "stderr",
     "output_type": "stream",
     "text": [
      "\n",
      "[=========>-------------------------------------------------------------]  14%\n",
      "\n",
      "[===================>---------------------------------------------------]  29%\n",
      "\n",
      "[=============================>-----------------------------------------]  43%\n",
      "\n",
      "[========================================>------------------------------]  57%\n",
      "\n",
      "[==================================================>--------------------]  71%\n",
      "\n",
      "[============================================================>----------]  86%\n",
      "\n",
      "[=======================================================================] 100%\n",
      "                                                                              \n",
      "\n"
     ]
    }
   ],
   "source": [
    "# running through their vignette example pipeline from https://github.com/Coolgenome/iTALK/blob/master/example/example_code.r\n",
    "highly_exprs_genes<-rawParse(data,top_genes=50,stats='mean')\n",
    "\n",
    "\n"
   ]
  },
  {
   "cell_type": "code",
   "execution_count": 23,
   "metadata": {},
   "outputs": [],
   "source": [
    "comm_list<-c('growth factor','other','cytokine','checkpoint')\n",
    "cell_col<-structure(c('#4a84ad','#4a1dc6','#e874bf','#b79eed', '#ff636b', '#52c63b','#9ef49a'),names=unique(pbmc@meta.data$cg_cov))\n",
    "res<-NULL\n",
    "for(comm_type in comm_list){\n",
    "    res_cat<-FindLR(highly_exprs_genes,datatype='mean count',comm_type=comm_type)\n",
    "    res_cat<-res_cat[order(res_cat$cell_from_mean_exprs*res_cat$cell_to_mean_exprs,decreasing=T),]\n",
    "    res<-rbind(res,res_cat)\n",
    "}\n",
    "res<-res[order(res$cell_from_mean_exprs*res$cell_to_mean_exprs,decreasing=T),]"
   ]
  },
  {
   "cell_type": "code",
   "execution_count": 29,
   "metadata": {},
   "outputs": [
    {
     "data": {
      "text/html": [
       "<style>\n",
       ".list-inline {list-style: none; margin:0; padding: 0}\n",
       ".list-inline>li {display: inline-block}\n",
       ".list-inline>li:not(:last-child)::after {content: \"\\00b7\"; padding: 0 .5ex}\n",
       "</style>\n",
       "<ol class=list-inline><li>'B2M'</li><li>'HLA-B'</li><li>'RPS19'</li><li>'HLA-C'</li><li>'HLA-A'</li><li>'VIM'</li><li>'LYZ'</li><li>'HLA-DRB1'</li><li>'APP'</li><li>'CALM2'</li><li>'TIMP1'</li><li>'S100A9'</li><li>'HLA-E'</li><li>'S100A8'</li><li>'IL8'</li><li>'CALM1'</li><li>'SPON2'</li><li>'VCAN'</li><li>'ANXA1'</li><li>'PKM'</li><li>'ICAM3'</li><li>'UBA52'</li><li>'TGFB1'</li><li>'ICAM2'</li><li>'PSAP'</li><li>'SELPLG'</li><li>'PTMA'</li><li>'CALM3'</li><li>'LTB'</li><li>'CD14'</li><li>'GNAI2'</li><li>'SERPINA1'</li></ol>\n"
      ],
      "text/latex": [
       "\\begin{enumerate*}\n",
       "\\item 'B2M'\n",
       "\\item 'HLA-B'\n",
       "\\item 'RPS19'\n",
       "\\item 'HLA-C'\n",
       "\\item 'HLA-A'\n",
       "\\item 'VIM'\n",
       "\\item 'LYZ'\n",
       "\\item 'HLA-DRB1'\n",
       "\\item 'APP'\n",
       "\\item 'CALM2'\n",
       "\\item 'TIMP1'\n",
       "\\item 'S100A9'\n",
       "\\item 'HLA-E'\n",
       "\\item 'S100A8'\n",
       "\\item 'IL8'\n",
       "\\item 'CALM1'\n",
       "\\item 'SPON2'\n",
       "\\item 'VCAN'\n",
       "\\item 'ANXA1'\n",
       "\\item 'PKM'\n",
       "\\item 'ICAM3'\n",
       "\\item 'UBA52'\n",
       "\\item 'TGFB1'\n",
       "\\item 'ICAM2'\n",
       "\\item 'PSAP'\n",
       "\\item 'SELPLG'\n",
       "\\item 'PTMA'\n",
       "\\item 'CALM3'\n",
       "\\item 'LTB'\n",
       "\\item 'CD14'\n",
       "\\item 'GNAI2'\n",
       "\\item 'SERPINA1'\n",
       "\\end{enumerate*}\n"
      ],
      "text/markdown": [
       "1. 'B2M'\n",
       "2. 'HLA-B'\n",
       "3. 'RPS19'\n",
       "4. 'HLA-C'\n",
       "5. 'HLA-A'\n",
       "6. 'VIM'\n",
       "7. 'LYZ'\n",
       "8. 'HLA-DRB1'\n",
       "9. 'APP'\n",
       "10. 'CALM2'\n",
       "11. 'TIMP1'\n",
       "12. 'S100A9'\n",
       "13. 'HLA-E'\n",
       "14. 'S100A8'\n",
       "15. 'IL8'\n",
       "16. 'CALM1'\n",
       "17. 'SPON2'\n",
       "18. 'VCAN'\n",
       "19. 'ANXA1'\n",
       "20. 'PKM'\n",
       "21. 'ICAM3'\n",
       "22. 'UBA52'\n",
       "23. 'TGFB1'\n",
       "24. 'ICAM2'\n",
       "25. 'PSAP'\n",
       "26. 'SELPLG'\n",
       "27. 'PTMA'\n",
       "28. 'CALM3'\n",
       "29. 'LTB'\n",
       "30. 'CD14'\n",
       "31. 'GNAI2'\n",
       "32. 'SERPINA1'\n",
       "\n",
       "\n"
      ],
      "text/plain": [
       " [1] \"B2M\"      \"HLA-B\"    \"RPS19\"    \"HLA-C\"    \"HLA-A\"    \"VIM\"     \n",
       " [7] \"LYZ\"      \"HLA-DRB1\" \"APP\"      \"CALM2\"    \"TIMP1\"    \"S100A9\"  \n",
       "[13] \"HLA-E\"    \"S100A8\"   \"IL8\"      \"CALM1\"    \"SPON2\"    \"VCAN\"    \n",
       "[19] \"ANXA1\"    \"PKM\"      \"ICAM3\"    \"UBA52\"    \"TGFB1\"    \"ICAM2\"   \n",
       "[25] \"PSAP\"     \"SELPLG\"   \"PTMA\"     \"CALM3\"    \"LTB\"      \"CD14\"    \n",
       "[31] \"GNAI2\"    \"SERPINA1\""
      ]
     },
     "metadata": {},
     "output_type": "display_data"
    }
   ],
   "source": [
    "unique(res$ligand[1:1000])"
   ]
  },
  {
   "cell_type": "code",
   "execution_count": 30,
   "metadata": {},
   "outputs": [],
   "source": [
    "# saveRDS(res,file='/home/jmitchel/data/lupus_data/LR_iTALK_res.rds')"
   ]
  },
  {
   "cell_type": "code",
   "execution_count": 14,
   "metadata": {},
   "outputs": [],
   "source": [
    "res <- readRDS(file='/home/jmitchel/data/lupus_data/LR_iTALK_res.rds')"
   ]
  },
  {
   "cell_type": "code",
   "execution_count": 3,
   "metadata": {},
   "outputs": [
    {
     "data": {
      "text/html": [
       "<table class=\"dataframe\">\n",
       "<caption>A data.frame: 6 × 7</caption>\n",
       "<thead>\n",
       "\t<tr><th></th><th scope=col>ligand</th><th scope=col>receptor</th><th scope=col>cell_from_mean_exprs</th><th scope=col>cell_from</th><th scope=col>cell_to_mean_exprs</th><th scope=col>cell_to</th><th scope=col>comm_type</th></tr>\n",
       "\t<tr><th></th><th scope=col>&lt;chr&gt;</th><th scope=col>&lt;chr&gt;</th><th scope=col>&lt;dbl&gt;</th><th scope=col>&lt;chr&gt;</th><th scope=col>&lt;dbl&gt;</th><th scope=col>&lt;chr&gt;</th><th scope=col>&lt;chr&gt;</th></tr>\n",
       "</thead>\n",
       "<tbody>\n",
       "\t<tr><th scope=row>249110</th><td>B2M</td><td>CD3D</td><td>61.79193</td><td>ncMono</td><td>2.025949</td><td>Tc</td><td>other</td></tr>\n",
       "\t<tr><th scope=row>249810</th><td>B2M</td><td>CD3D</td><td>59.93023</td><td>cDC   </td><td>2.025949</td><td>Tc</td><td>other</td></tr>\n",
       "\t<tr><th scope=row>249310</th><td>B2M</td><td>CD3D</td><td>61.79193</td><td>ncMono</td><td>1.645161</td><td>Th</td><td>other</td></tr>\n",
       "\t<tr><th scope=row>250010</th><td>B2M</td><td>CD3D</td><td>59.93023</td><td>cDC   </td><td>1.645161</td><td>Th</td><td>other</td></tr>\n",
       "\t<tr><th scope=row>247710</th><td>B2M</td><td>CD3D</td><td>46.24963</td><td>NK    </td><td>2.025949</td><td>Tc</td><td>other</td></tr>\n",
       "\t<tr><th scope=row>245610</th><td>B2M</td><td>CD3D</td><td>41.58093</td><td>Tc    </td><td>2.025949</td><td>Tc</td><td>other</td></tr>\n",
       "</tbody>\n",
       "</table>\n"
      ],
      "text/latex": [
       "A data.frame: 6 × 7\n",
       "\\begin{tabular}{r|lllllll}\n",
       "  & ligand & receptor & cell\\_from\\_mean\\_exprs & cell\\_from & cell\\_to\\_mean\\_exprs & cell\\_to & comm\\_type\\\\\n",
       "  & <chr> & <chr> & <dbl> & <chr> & <dbl> & <chr> & <chr>\\\\\n",
       "\\hline\n",
       "\t249110 & B2M & CD3D & 61.79193 & ncMono & 2.025949 & Tc & other\\\\\n",
       "\t249810 & B2M & CD3D & 59.93023 & cDC    & 2.025949 & Tc & other\\\\\n",
       "\t249310 & B2M & CD3D & 61.79193 & ncMono & 1.645161 & Th & other\\\\\n",
       "\t250010 & B2M & CD3D & 59.93023 & cDC    & 1.645161 & Th & other\\\\\n",
       "\t247710 & B2M & CD3D & 46.24963 & NK     & 2.025949 & Tc & other\\\\\n",
       "\t245610 & B2M & CD3D & 41.58093 & Tc     & 2.025949 & Tc & other\\\\\n",
       "\\end{tabular}\n"
      ],
      "text/markdown": [
       "\n",
       "A data.frame: 6 × 7\n",
       "\n",
       "| <!--/--> | ligand &lt;chr&gt; | receptor &lt;chr&gt; | cell_from_mean_exprs &lt;dbl&gt; | cell_from &lt;chr&gt; | cell_to_mean_exprs &lt;dbl&gt; | cell_to &lt;chr&gt; | comm_type &lt;chr&gt; |\n",
       "|---|---|---|---|---|---|---|---|\n",
       "| 249110 | B2M | CD3D | 61.79193 | ncMono | 2.025949 | Tc | other |\n",
       "| 249810 | B2M | CD3D | 59.93023 | cDC    | 2.025949 | Tc | other |\n",
       "| 249310 | B2M | CD3D | 61.79193 | ncMono | 1.645161 | Th | other |\n",
       "| 250010 | B2M | CD3D | 59.93023 | cDC    | 1.645161 | Th | other |\n",
       "| 247710 | B2M | CD3D | 46.24963 | NK     | 2.025949 | Tc | other |\n",
       "| 245610 | B2M | CD3D | 41.58093 | Tc     | 2.025949 | Tc | other |\n",
       "\n"
      ],
      "text/plain": [
       "       ligand receptor cell_from_mean_exprs cell_from cell_to_mean_exprs\n",
       "249110 B2M    CD3D     61.79193             ncMono    2.025949          \n",
       "249810 B2M    CD3D     59.93023             cDC       2.025949          \n",
       "249310 B2M    CD3D     61.79193             ncMono    1.645161          \n",
       "250010 B2M    CD3D     59.93023             cDC       1.645161          \n",
       "247710 B2M    CD3D     46.24963             NK        2.025949          \n",
       "245610 B2M    CD3D     41.58093             Tc        2.025949          \n",
       "       cell_to comm_type\n",
       "249110 Tc      other    \n",
       "249810 Tc      other    \n",
       "249310 Th      other    \n",
       "250010 Th      other    \n",
       "247710 Tc      other    \n",
       "245610 Tc      other    "
      ]
     },
     "metadata": {},
     "output_type": "display_data"
    }
   ],
   "source": [
    "head(res)"
   ]
  },
  {
   "cell_type": "code",
   "execution_count": 13,
   "metadata": {},
   "outputs": [],
   "source": [
    "# res[1:50,]"
   ]
  },
  {
   "cell_type": "code",
   "execution_count": 15,
   "metadata": {},
   "outputs": [],
   "source": [
    "# parse the results to get top n channels\n",
    "res <- unique(res[,c('ligand','cell_from','cell_to')])\n",
    "italk_channels <- sapply(1:nrow(res),function(i){\n",
    "  source <- res[i,'cell_from']\n",
    "  target <- res[i,'cell_to']\n",
    "  ligand <- res[i,'ligand']\n",
    "  if (source != target) {\n",
    "    return(paste0(ligand, \"_\",\n",
    "                  source, \"_\",\n",
    "                  target))\n",
    "  } else {\n",
    "    return(NA)\n",
    "  }\n",
    "  \n",
    "})\n",
    "italk_channels <- italk_channels[!is.na(italk_channels)]"
   ]
  },
  {
   "cell_type": "code",
   "execution_count": 16,
   "metadata": {},
   "outputs": [
    {
     "data": {
      "text/html": [
       "<style>\n",
       ".list-inline {list-style: none; margin:0; padding: 0}\n",
       ".list-inline>li {display: inline-block}\n",
       ".list-inline>li:not(:last-child)::after {content: \"\\00b7\"; padding: 0 .5ex}\n",
       "</style>\n",
       "<ol class=list-inline><li>'B2M_ncMono_Tc'</li><li>'B2M_cDC_Tc'</li><li>'B2M_ncMono_Th'</li><li>'B2M_cDC_Th'</li><li>'B2M_NK_Tc'</li><li>'B2M_NK_Th'</li><li>'B2M_ncMono_NK'</li><li>'B2M_cDC_NK'</li><li>'B2M_Th_Tc'</li><li>'B2M_Tc_Th'</li></ol>\n"
      ],
      "text/latex": [
       "\\begin{enumerate*}\n",
       "\\item 'B2M\\_ncMono\\_Tc'\n",
       "\\item 'B2M\\_cDC\\_Tc'\n",
       "\\item 'B2M\\_ncMono\\_Th'\n",
       "\\item 'B2M\\_cDC\\_Th'\n",
       "\\item 'B2M\\_NK\\_Tc'\n",
       "\\item 'B2M\\_NK\\_Th'\n",
       "\\item 'B2M\\_ncMono\\_NK'\n",
       "\\item 'B2M\\_cDC\\_NK'\n",
       "\\item 'B2M\\_Th\\_Tc'\n",
       "\\item 'B2M\\_Tc\\_Th'\n",
       "\\end{enumerate*}\n"
      ],
      "text/markdown": [
       "1. 'B2M_ncMono_Tc'\n",
       "2. 'B2M_cDC_Tc'\n",
       "3. 'B2M_ncMono_Th'\n",
       "4. 'B2M_cDC_Th'\n",
       "5. 'B2M_NK_Tc'\n",
       "6. 'B2M_NK_Th'\n",
       "7. 'B2M_ncMono_NK'\n",
       "8. 'B2M_cDC_NK'\n",
       "9. 'B2M_Th_Tc'\n",
       "10. 'B2M_Tc_Th'\n",
       "\n",
       "\n"
      ],
      "text/plain": [
       " [1] \"B2M_ncMono_Tc\" \"B2M_cDC_Tc\"    \"B2M_ncMono_Th\" \"B2M_cDC_Th\"   \n",
       " [5] \"B2M_NK_Tc\"     \"B2M_NK_Th\"     \"B2M_ncMono_NK\" \"B2M_cDC_NK\"   \n",
       " [9] \"B2M_Th_Tc\"     \"B2M_Tc_Th\"    "
      ]
     },
     "metadata": {},
     "output_type": "display_data"
    }
   ],
   "source": [
    "italk_channels[1:10]"
   ]
  },
  {
   "cell_type": "code",
   "execution_count": 17,
   "metadata": {},
   "outputs": [
    {
     "name": "stdout",
     "output_type": "stream",
     "text": [
      "[1] 12262\n",
      "[1] 12262\n"
     ]
    }
   ],
   "source": [
    "print(length(italk_channels))\n",
    "print(length(unique(italk_channels)))\n"
   ]
  },
  {
   "cell_type": "code",
   "execution_count": 21,
   "metadata": {},
   "outputs": [],
   "source": [
    "# saveRDS(italk_channels,file='/home/jmitchel/data/lupus_data/LR_iTALK_res_parsed.rds')"
   ]
  },
  {
   "cell_type": "code",
   "execution_count": null,
   "metadata": {},
   "outputs": [],
   "source": []
  },
  {
   "cell_type": "code",
   "execution_count": null,
   "metadata": {},
   "outputs": [],
   "source": []
  },
  {
   "cell_type": "code",
   "execution_count": null,
   "metadata": {},
   "outputs": [],
   "source": []
  }
 ],
 "metadata": {
  "kernelspec": {
   "display_name": "R",
   "language": "R",
   "name": "ir"
  },
  "language_info": {
   "codemirror_mode": "r",
   "file_extension": ".r",
   "mimetype": "text/x-r-source",
   "name": "R",
   "pygments_lexer": "r",
   "version": "4.1.1"
  }
 },
 "nbformat": 4,
 "nbformat_minor": 4
}
