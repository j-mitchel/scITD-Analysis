{
 "cells": [
  {
   "cell_type": "code",
   "execution_count": 5,
   "metadata": {},
   "outputs": [],
   "source": [
    "tmp <- cbind.data.frame(c(1,2,3,4,5),c(10,11,12,13,14))"
   ]
  },
  {
   "cell_type": "code",
   "execution_count": 9,
   "metadata": {},
   "outputs": [],
   "source": [
    "colnames(tmp) <- c('mycol1','mycol2')"
   ]
  },
  {
   "cell_type": "code",
   "execution_count": 10,
   "metadata": {},
   "outputs": [
    {
     "data": {
      "text/html": [
       "<table class=\"dataframe\">\n",
       "<caption>A data.frame: 5 × 2</caption>\n",
       "<thead>\n",
       "\t<tr><th scope=col>mycol1</th><th scope=col>mycol2</th></tr>\n",
       "\t<tr><th scope=col>&lt;dbl&gt;</th><th scope=col>&lt;dbl&gt;</th></tr>\n",
       "</thead>\n",
       "<tbody>\n",
       "\t<tr><td>1</td><td>10</td></tr>\n",
       "\t<tr><td>2</td><td>11</td></tr>\n",
       "\t<tr><td>3</td><td>12</td></tr>\n",
       "\t<tr><td>4</td><td>13</td></tr>\n",
       "\t<tr><td>5</td><td>14</td></tr>\n",
       "</tbody>\n",
       "</table>\n"
      ],
      "text/latex": [
       "A data.frame: 5 × 2\n",
       "\\begin{tabular}{ll}\n",
       " mycol1 & mycol2\\\\\n",
       " <dbl> & <dbl>\\\\\n",
       "\\hline\n",
       "\t 1 & 10\\\\\n",
       "\t 2 & 11\\\\\n",
       "\t 3 & 12\\\\\n",
       "\t 4 & 13\\\\\n",
       "\t 5 & 14\\\\\n",
       "\\end{tabular}\n"
      ],
      "text/markdown": [
       "\n",
       "A data.frame: 5 × 2\n",
       "\n",
       "| mycol1 &lt;dbl&gt; | mycol2 &lt;dbl&gt; |\n",
       "|---|---|\n",
       "| 1 | 10 |\n",
       "| 2 | 11 |\n",
       "| 3 | 12 |\n",
       "| 4 | 13 |\n",
       "| 5 | 14 |\n",
       "\n"
      ],
      "text/plain": [
       "  mycol1 mycol2\n",
       "1 1      10    \n",
       "2 2      11    \n",
       "3 3      12    \n",
       "4 4      13    \n",
       "5 5      14    "
      ]
     },
     "metadata": {},
     "output_type": "display_data"
    }
   ],
   "source": [
    "tmp"
   ]
  },
  {
   "cell_type": "code",
   "execution_count": 11,
   "metadata": {},
   "outputs": [],
   "source": [
    "tmp2 <- transform(tmp, mycol2 = sample(mycol2))\n"
   ]
  },
  {
   "cell_type": "code",
   "execution_count": 12,
   "metadata": {},
   "outputs": [
    {
     "data": {
      "text/html": [
       "<table class=\"dataframe\">\n",
       "<caption>A data.frame: 5 × 2</caption>\n",
       "<thead>\n",
       "\t<tr><th scope=col>mycol1</th><th scope=col>mycol2</th></tr>\n",
       "\t<tr><th scope=col>&lt;dbl&gt;</th><th scope=col>&lt;dbl&gt;</th></tr>\n",
       "</thead>\n",
       "<tbody>\n",
       "\t<tr><td>1</td><td>11</td></tr>\n",
       "\t<tr><td>2</td><td>12</td></tr>\n",
       "\t<tr><td>3</td><td>14</td></tr>\n",
       "\t<tr><td>4</td><td>10</td></tr>\n",
       "\t<tr><td>5</td><td>13</td></tr>\n",
       "</tbody>\n",
       "</table>\n"
      ],
      "text/latex": [
       "A data.frame: 5 × 2\n",
       "\\begin{tabular}{ll}\n",
       " mycol1 & mycol2\\\\\n",
       " <dbl> & <dbl>\\\\\n",
       "\\hline\n",
       "\t 1 & 11\\\\\n",
       "\t 2 & 12\\\\\n",
       "\t 3 & 14\\\\\n",
       "\t 4 & 10\\\\\n",
       "\t 5 & 13\\\\\n",
       "\\end{tabular}\n"
      ],
      "text/markdown": [
       "\n",
       "A data.frame: 5 × 2\n",
       "\n",
       "| mycol1 &lt;dbl&gt; | mycol2 &lt;dbl&gt; |\n",
       "|---|---|\n",
       "| 1 | 11 |\n",
       "| 2 | 12 |\n",
       "| 3 | 14 |\n",
       "| 4 | 10 |\n",
       "| 5 | 13 |\n",
       "\n"
      ],
      "text/plain": [
       "  mycol1 mycol2\n",
       "1 1      11    \n",
       "2 2      12    \n",
       "3 3      14    \n",
       "4 4      10    \n",
       "5 5      13    "
      ]
     },
     "metadata": {},
     "output_type": "display_data"
    }
   ],
   "source": [
    "tmp2"
   ]
  },
  {
   "cell_type": "code",
   "execution_count": 14,
   "metadata": {},
   "outputs": [],
   "source": [
    "lmres <- summary(lm(mycol1~mycol2,data=tmp2))"
   ]
  },
  {
   "cell_type": "code",
   "execution_count": 17,
   "metadata": {},
   "outputs": [
    {
     "data": {
      "text/plain": [
       "\n",
       "Call:\n",
       "lm(formula = mycol1 ~ mycol2, data = tmp2)\n",
       "\n",
       "Residuals:\n",
       "   1    2    3    4    5 \n",
       "-1.8 -1.0 -0.4  1.4  1.8 \n",
       "\n",
       "Coefficients:\n",
       "            Estimate Std. Error t value Pr(>|t|)\n",
       "(Intercept)   0.6000     6.8352   0.088    0.936\n",
       "mycol2        0.2000     0.5657   0.354    0.747\n",
       "\n",
       "Residual standard error: 1.789 on 3 degrees of freedom\n",
       "Multiple R-squared:   0.04,\tAdjusted R-squared:  -0.28 \n",
       "F-statistic: 0.125 on 1 and 3 DF,  p-value: 0.7471\n"
      ]
     },
     "metadata": {},
     "output_type": "display_data"
    }
   ],
   "source": [
    "lmres"
   ]
  },
  {
   "cell_type": "code",
   "execution_count": 16,
   "metadata": {},
   "outputs": [
    {
     "data": {
      "text/html": [
       "<style>\n",
       ".dl-inline {width: auto; margin:0; padding: 0}\n",
       ".dl-inline>dt, .dl-inline>dd {float: none; width: auto; display: inline-block}\n",
       ".dl-inline>dt::after {content: \":\\0020\"; padding-right: .5ex}\n",
       ".dl-inline>dt:not(:first-of-type) {padding-left: .5ex}\n",
       "</style><dl class=dl-inline><dt>value</dt><dd>0.125000000000001</dd><dt>numdf</dt><dd>1</dd><dt>dendf</dt><dd>3</dd></dl>\n"
      ],
      "text/latex": [
       "\\begin{description*}\n",
       "\\item[value] 0.125000000000001\n",
       "\\item[numdf] 1\n",
       "\\item[dendf] 3\n",
       "\\end{description*}\n"
      ],
      "text/markdown": [
       "value\n",
       ":   0.125000000000001numdf\n",
       ":   1dendf\n",
       ":   3\n",
       "\n"
      ],
      "text/plain": [
       "value numdf dendf \n",
       "0.125 1.000 3.000 "
      ]
     },
     "metadata": {},
     "output_type": "display_data"
    }
   ],
   "source": [
    "lmres$fstatistic"
   ]
  },
  {
   "cell_type": "code",
   "execution_count": 18,
   "metadata": {},
   "outputs": [
    {
     "data": {
      "text/html": [
       "<table class=\"dataframe\">\n",
       "<caption>A data.frame: 5 × 2</caption>\n",
       "<thead>\n",
       "\t<tr><th scope=col>mycol1</th><th scope=col>mycol2</th></tr>\n",
       "\t<tr><th scope=col>&lt;dbl&gt;</th><th scope=col>&lt;dbl&gt;</th></tr>\n",
       "</thead>\n",
       "<tbody>\n",
       "\t<tr><td>1</td><td>10</td></tr>\n",
       "\t<tr><td>2</td><td>11</td></tr>\n",
       "\t<tr><td>3</td><td>12</td></tr>\n",
       "\t<tr><td>4</td><td>13</td></tr>\n",
       "\t<tr><td>5</td><td>14</td></tr>\n",
       "</tbody>\n",
       "</table>\n"
      ],
      "text/latex": [
       "A data.frame: 5 × 2\n",
       "\\begin{tabular}{ll}\n",
       " mycol1 & mycol2\\\\\n",
       " <dbl> & <dbl>\\\\\n",
       "\\hline\n",
       "\t 1 & 10\\\\\n",
       "\t 2 & 11\\\\\n",
       "\t 3 & 12\\\\\n",
       "\t 4 & 13\\\\\n",
       "\t 5 & 14\\\\\n",
       "\\end{tabular}\n"
      ],
      "text/markdown": [
       "\n",
       "A data.frame: 5 × 2\n",
       "\n",
       "| mycol1 &lt;dbl&gt; | mycol2 &lt;dbl&gt; |\n",
       "|---|---|\n",
       "| 1 | 10 |\n",
       "| 2 | 11 |\n",
       "| 3 | 12 |\n",
       "| 4 | 13 |\n",
       "| 5 | 14 |\n",
       "\n"
      ],
      "text/plain": [
       "  mycol1 mycol2\n",
       "1 1      10    \n",
       "2 2      11    \n",
       "3 3      12    \n",
       "4 4      13    \n",
       "5 5      14    "
      ]
     },
     "metadata": {},
     "output_type": "display_data"
    }
   ],
   "source": [
    "tmp"
   ]
  },
  {
   "cell_type": "code",
   "execution_count": null,
   "metadata": {},
   "outputs": [],
   "source": []
  },
  {
   "cell_type": "code",
   "execution_count": null,
   "metadata": {},
   "outputs": [],
   "source": []
  }
 ],
 "metadata": {
  "kernelspec": {
   "display_name": "R",
   "language": "R",
   "name": "ir"
  },
  "language_info": {
   "codemirror_mode": "r",
   "file_extension": ".r",
   "mimetype": "text/x-r-source",
   "name": "R",
   "pygments_lexer": "r",
   "version": "4.1.1"
  }
 },
 "nbformat": 4,
 "nbformat_minor": 4
}
